{
 "cells": [
  {
   "cell_type": "code",
   "execution_count": 1,
   "metadata": {},
   "outputs": [
    {
     "data": {
      "text/html": [
       "<div>\n",
       "<style scoped>\n",
       "    .dataframe tbody tr th:only-of-type {\n",
       "        vertical-align: middle;\n",
       "    }\n",
       "\n",
       "    .dataframe tbody tr th {\n",
       "        vertical-align: top;\n",
       "    }\n",
       "\n",
       "    .dataframe thead th {\n",
       "        text-align: right;\n",
       "    }\n",
       "</style>\n",
       "<table border=\"1\" class=\"dataframe\">\n",
       "  <thead>\n",
       "    <tr style=\"text-align: right;\">\n",
       "      <th></th>\n",
       "      <th>Churn</th>\n",
       "      <th>Tenure</th>\n",
       "      <th>PreferredLoginDevice</th>\n",
       "      <th>CityTier</th>\n",
       "      <th>WarehouseToHome</th>\n",
       "      <th>PreferredPaymentMode</th>\n",
       "      <th>Gender</th>\n",
       "      <th>HourSpendOnApp</th>\n",
       "      <th>DeviceRegistered</th>\n",
       "      <th>PreferedOrderCat</th>\n",
       "      <th>SatisfactionScore</th>\n",
       "      <th>MaritalStatus</th>\n",
       "      <th>NumberOfAddress</th>\n",
       "      <th>Complain</th>\n",
       "      <th>OrderIncreaseFromLastYear</th>\n",
       "      <th>CouponUsed</th>\n",
       "      <th>OrderCount</th>\n",
       "      <th>DaySinceLastOrder</th>\n",
       "      <th>CashbackAmount</th>\n",
       "    </tr>\n",
       "    <tr>\n",
       "      <th>CustomerID</th>\n",
       "      <th></th>\n",
       "      <th></th>\n",
       "      <th></th>\n",
       "      <th></th>\n",
       "      <th></th>\n",
       "      <th></th>\n",
       "      <th></th>\n",
       "      <th></th>\n",
       "      <th></th>\n",
       "      <th></th>\n",
       "      <th></th>\n",
       "      <th></th>\n",
       "      <th></th>\n",
       "      <th></th>\n",
       "      <th></th>\n",
       "      <th></th>\n",
       "      <th></th>\n",
       "      <th></th>\n",
       "      <th></th>\n",
       "    </tr>\n",
       "  </thead>\n",
       "  <tbody>\n",
       "    <tr>\n",
       "      <th>50027</th>\n",
       "      <td>0</td>\n",
       "      <td>8.0</td>\n",
       "      <td>Mobile Phone</td>\n",
       "      <td>3</td>\n",
       "      <td>6.0</td>\n",
       "      <td>E wallet</td>\n",
       "      <td>Male</td>\n",
       "      <td>3.0</td>\n",
       "      <td>3</td>\n",
       "      <td>Fashion</td>\n",
       "      <td>4</td>\n",
       "      <td>Divorced</td>\n",
       "      <td>2</td>\n",
       "      <td>0</td>\n",
       "      <td>13.0</td>\n",
       "      <td>1.0</td>\n",
       "      <td>1.0</td>\n",
       "      <td>6.0</td>\n",
       "      <td>172,95</td>\n",
       "    </tr>\n",
       "    <tr>\n",
       "      <th>50028</th>\n",
       "      <td>0</td>\n",
       "      <td>NaN</td>\n",
       "      <td>Phone</td>\n",
       "      <td>3</td>\n",
       "      <td>12.0</td>\n",
       "      <td>E wallet</td>\n",
       "      <td>Male</td>\n",
       "      <td>2.0</td>\n",
       "      <td>3</td>\n",
       "      <td>Laptop &amp; Accessory</td>\n",
       "      <td>3</td>\n",
       "      <td>Divorced</td>\n",
       "      <td>3</td>\n",
       "      <td>1</td>\n",
       "      <td>20.0</td>\n",
       "      <td>0.0</td>\n",
       "      <td>4.0</td>\n",
       "      <td>5.0</td>\n",
       "      <td>123,06</td>\n",
       "    </tr>\n",
       "    <tr>\n",
       "      <th>50029</th>\n",
       "      <td>0</td>\n",
       "      <td>18.0</td>\n",
       "      <td>Phone</td>\n",
       "      <td>1</td>\n",
       "      <td>NaN</td>\n",
       "      <td>Debit Card</td>\n",
       "      <td>Male</td>\n",
       "      <td>2.0</td>\n",
       "      <td>3</td>\n",
       "      <td>Laptop &amp; Accessory</td>\n",
       "      <td>4</td>\n",
       "      <td>Married</td>\n",
       "      <td>9</td>\n",
       "      <td>0</td>\n",
       "      <td>18.0</td>\n",
       "      <td>1.0</td>\n",
       "      <td>1.0</td>\n",
       "      <td>15.0</td>\n",
       "      <td>123,48</td>\n",
       "    </tr>\n",
       "    <tr>\n",
       "      <th>50030</th>\n",
       "      <td>0</td>\n",
       "      <td>5.0</td>\n",
       "      <td>Computer</td>\n",
       "      <td>3</td>\n",
       "      <td>14.0</td>\n",
       "      <td>E wallet</td>\n",
       "      <td>Female</td>\n",
       "      <td>2.0</td>\n",
       "      <td>3</td>\n",
       "      <td>Fashion</td>\n",
       "      <td>2</td>\n",
       "      <td>Single</td>\n",
       "      <td>2</td>\n",
       "      <td>0</td>\n",
       "      <td>14.0</td>\n",
       "      <td>2.0</td>\n",
       "      <td>3.0</td>\n",
       "      <td>7.0</td>\n",
       "      <td>189,98</td>\n",
       "    </tr>\n",
       "    <tr>\n",
       "      <th>50031</th>\n",
       "      <td>0</td>\n",
       "      <td>2.0</td>\n",
       "      <td>Computer</td>\n",
       "      <td>1</td>\n",
       "      <td>6.0</td>\n",
       "      <td>COD</td>\n",
       "      <td>Male</td>\n",
       "      <td>2.0</td>\n",
       "      <td>3</td>\n",
       "      <td>Laptop &amp; Accessory</td>\n",
       "      <td>3</td>\n",
       "      <td>Divorced</td>\n",
       "      <td>2</td>\n",
       "      <td>0</td>\n",
       "      <td>13.0</td>\n",
       "      <td>0.0</td>\n",
       "      <td>1.0</td>\n",
       "      <td>9.0</td>\n",
       "      <td>143,19</td>\n",
       "    </tr>\n",
       "    <tr>\n",
       "      <th>50032</th>\n",
       "      <td>0</td>\n",
       "      <td>0.0</td>\n",
       "      <td>Mobile Phone</td>\n",
       "      <td>1</td>\n",
       "      <td>13.0</td>\n",
       "      <td>Credit Card</td>\n",
       "      <td>Male</td>\n",
       "      <td>2.0</td>\n",
       "      <td>4</td>\n",
       "      <td>Laptop &amp; Accessory</td>\n",
       "      <td>3</td>\n",
       "      <td>Divorced</td>\n",
       "      <td>3</td>\n",
       "      <td>0</td>\n",
       "      <td>17.0</td>\n",
       "      <td>1.0</td>\n",
       "      <td>1.0</td>\n",
       "      <td>0.0</td>\n",
       "      <td>161,32</td>\n",
       "    </tr>\n",
       "    <tr>\n",
       "      <th>50033</th>\n",
       "      <td>0</td>\n",
       "      <td>30.0</td>\n",
       "      <td>Phone</td>\n",
       "      <td>1</td>\n",
       "      <td>15.0</td>\n",
       "      <td>CC</td>\n",
       "      <td>Female</td>\n",
       "      <td>3.0</td>\n",
       "      <td>4</td>\n",
       "      <td>Mobile</td>\n",
       "      <td>4</td>\n",
       "      <td>Divorced</td>\n",
       "      <td>5</td>\n",
       "      <td>1</td>\n",
       "      <td>20.0</td>\n",
       "      <td>1.0</td>\n",
       "      <td>1.0</td>\n",
       "      <td>0.0</td>\n",
       "      <td>133,46</td>\n",
       "    </tr>\n",
       "    <tr>\n",
       "      <th>50034</th>\n",
       "      <td>0</td>\n",
       "      <td>13.0</td>\n",
       "      <td>Mobile Phone</td>\n",
       "      <td>3</td>\n",
       "      <td>10.0</td>\n",
       "      <td>E wallet</td>\n",
       "      <td>Male</td>\n",
       "      <td>3.0</td>\n",
       "      <td>4</td>\n",
       "      <td>Fashion</td>\n",
       "      <td>2</td>\n",
       "      <td>Divorced</td>\n",
       "      <td>8</td>\n",
       "      <td>0</td>\n",
       "      <td>11.0</td>\n",
       "      <td>2.0</td>\n",
       "      <td>2.0</td>\n",
       "      <td>11.0</td>\n",
       "      <td>208,55</td>\n",
       "    </tr>\n",
       "    <tr>\n",
       "      <th>50035</th>\n",
       "      <td>0</td>\n",
       "      <td>NaN</td>\n",
       "      <td>Computer</td>\n",
       "      <td>3</td>\n",
       "      <td>8.0</td>\n",
       "      <td>E wallet</td>\n",
       "      <td>Female</td>\n",
       "      <td>3.0</td>\n",
       "      <td>3</td>\n",
       "      <td>Mobile</td>\n",
       "      <td>3</td>\n",
       "      <td>Divorced</td>\n",
       "      <td>7</td>\n",
       "      <td>0</td>\n",
       "      <td>18.0</td>\n",
       "      <td>1.0</td>\n",
       "      <td>1.0</td>\n",
       "      <td>2.0</td>\n",
       "      <td>122,31</td>\n",
       "    </tr>\n",
       "    <tr>\n",
       "      <th>50036</th>\n",
       "      <td>0</td>\n",
       "      <td>0.0</td>\n",
       "      <td>Phone</td>\n",
       "      <td>1</td>\n",
       "      <td>NaN</td>\n",
       "      <td>CC</td>\n",
       "      <td>Male</td>\n",
       "      <td>3.0</td>\n",
       "      <td>3</td>\n",
       "      <td>Mobile</td>\n",
       "      <td>2</td>\n",
       "      <td>Divorced</td>\n",
       "      <td>2</td>\n",
       "      <td>0</td>\n",
       "      <td>24.0</td>\n",
       "      <td>0.0</td>\n",
       "      <td>2.0</td>\n",
       "      <td>2.0</td>\n",
       "      <td>123,23</td>\n",
       "    </tr>\n",
       "  </tbody>\n",
       "</table>\n",
       "</div>"
      ],
      "text/plain": [
       "            Churn  Tenure PreferredLoginDevice  CityTier  WarehouseToHome  \\\n",
       "CustomerID                                                                  \n",
       "50027           0     8.0         Mobile Phone         3              6.0   \n",
       "50028           0     NaN                Phone         3             12.0   \n",
       "50029           0    18.0                Phone         1              NaN   \n",
       "50030           0     5.0             Computer         3             14.0   \n",
       "50031           0     2.0             Computer         1              6.0   \n",
       "50032           0     0.0         Mobile Phone         1             13.0   \n",
       "50033           0    30.0                Phone         1             15.0   \n",
       "50034           0    13.0         Mobile Phone         3             10.0   \n",
       "50035           0     NaN             Computer         3              8.0   \n",
       "50036           0     0.0                Phone         1              NaN   \n",
       "\n",
       "           PreferredPaymentMode  Gender  HourSpendOnApp  DeviceRegistered  \\\n",
       "CustomerID                                                                  \n",
       "50027                  E wallet    Male             3.0                 3   \n",
       "50028                  E wallet    Male             2.0                 3   \n",
       "50029                Debit Card    Male             2.0                 3   \n",
       "50030                  E wallet  Female             2.0                 3   \n",
       "50031                       COD    Male             2.0                 3   \n",
       "50032               Credit Card    Male             2.0                 4   \n",
       "50033                        CC  Female             3.0                 4   \n",
       "50034                  E wallet    Male             3.0                 4   \n",
       "50035                  E wallet  Female             3.0                 3   \n",
       "50036                        CC    Male             3.0                 3   \n",
       "\n",
       "              PreferedOrderCat  SatisfactionScore MaritalStatus  \\\n",
       "CustomerID                                                        \n",
       "50027                  Fashion                  4      Divorced   \n",
       "50028       Laptop & Accessory                  3      Divorced   \n",
       "50029       Laptop & Accessory                  4       Married   \n",
       "50030                  Fashion                  2        Single   \n",
       "50031       Laptop & Accessory                  3      Divorced   \n",
       "50032       Laptop & Accessory                  3      Divorced   \n",
       "50033                   Mobile                  4      Divorced   \n",
       "50034                  Fashion                  2      Divorced   \n",
       "50035                   Mobile                  3      Divorced   \n",
       "50036                   Mobile                  2      Divorced   \n",
       "\n",
       "            NumberOfAddress  Complain  OrderIncreaseFromLastYear  CouponUsed  \\\n",
       "CustomerID                                                                     \n",
       "50027                     2         0                       13.0         1.0   \n",
       "50028                     3         1                       20.0         0.0   \n",
       "50029                     9         0                       18.0         1.0   \n",
       "50030                     2         0                       14.0         2.0   \n",
       "50031                     2         0                       13.0         0.0   \n",
       "50032                     3         0                       17.0         1.0   \n",
       "50033                     5         1                       20.0         1.0   \n",
       "50034                     8         0                       11.0         2.0   \n",
       "50035                     7         0                       18.0         1.0   \n",
       "50036                     2         0                       24.0         0.0   \n",
       "\n",
       "            OrderCount  DaySinceLastOrder CashbackAmount  \n",
       "CustomerID                                                \n",
       "50027              1.0                6.0         172,95  \n",
       "50028              4.0                5.0         123,06  \n",
       "50029              1.0               15.0         123,48  \n",
       "50030              3.0                7.0         189,98  \n",
       "50031              1.0                9.0         143,19  \n",
       "50032              1.0                0.0         161,32  \n",
       "50033              1.0                0.0         133,46  \n",
       "50034              2.0               11.0         208,55  \n",
       "50035              1.0                2.0         122,31  \n",
       "50036              2.0                2.0         123,23  "
      ]
     },
     "execution_count": 1,
     "metadata": {},
     "output_type": "execute_result"
    }
   ],
   "source": [
    "import pandas as pd\n",
    "import numpy as np\n",
    "from sklearn.linear_model import LinearRegression\n",
    "data=pd.read_csv('D:/STATISTIKA/DSC 2020/TUGAS FINAL/Final Project/ecommerce_churn.csv', sep=\";\", index_col=0)\n",
    "data.head(10)"
   ]
  },
  {
   "cell_type": "code",
   "execution_count": 2,
   "metadata": {},
   "outputs": [],
   "source": [
    "df=pd.DataFrame(data)"
   ]
  },
  {
   "cell_type": "code",
   "execution_count": 3,
   "metadata": {},
   "outputs": [
    {
     "data": {
      "text/plain": [
       "(1896, 19)"
      ]
     },
     "execution_count": 3,
     "metadata": {},
     "output_type": "execute_result"
    }
   ],
   "source": [
    "df.shape"
   ]
  },
  {
   "cell_type": "markdown",
   "metadata": {},
   "source": [
    "### Karakteristik Data "
   ]
  },
  {
   "cell_type": "code",
   "execution_count": 4,
   "metadata": {},
   "outputs": [
    {
     "name": "stdout",
     "output_type": "stream",
     "text": [
      "<class 'pandas.core.frame.DataFrame'>\n",
      "Int64Index: 1896 entries, 50027 to 55622\n",
      "Data columns (total 19 columns):\n",
      " #   Column                     Non-Null Count  Dtype  \n",
      "---  ------                     --------------  -----  \n",
      " 0   Churn                      1896 non-null   int64  \n",
      " 1   Tenure                     1739 non-null   float64\n",
      " 2   PreferredLoginDevice       1896 non-null   object \n",
      " 3   CityTier                   1896 non-null   int64  \n",
      " 4   WarehouseToHome            1744 non-null   float64\n",
      " 5   PreferredPaymentMode       1896 non-null   object \n",
      " 6   Gender                     1896 non-null   object \n",
      " 7   HourSpendOnApp             1766 non-null   float64\n",
      " 8   DeviceRegistered           1896 non-null   int64  \n",
      " 9   PreferedOrderCat           1896 non-null   object \n",
      " 10  SatisfactionScore          1896 non-null   int64  \n",
      " 11  MaritalStatus              1896 non-null   object \n",
      " 12  NumberOfAddress            1896 non-null   int64  \n",
      " 13  Complain                   1896 non-null   int64  \n",
      " 14  OrderIncreaseFromLastYear  1855 non-null   float64\n",
      " 15  CouponUsed                 1817 non-null   float64\n",
      " 16  OrderCount                 1837 non-null   float64\n",
      " 17  DaySinceLastOrder          1812 non-null   float64\n",
      " 18  CashbackAmount             1896 non-null   object \n",
      "dtypes: float64(7), int64(6), object(6)\n",
      "memory usage: 296.2+ KB\n"
     ]
    }
   ],
   "source": [
    "df.info()"
   ]
  },
  {
   "cell_type": "markdown",
   "metadata": {},
   "source": [
    "### Statistika Deskriptif"
   ]
  },
  {
   "cell_type": "code",
   "execution_count": 5,
   "metadata": {},
   "outputs": [
    {
     "data": {
      "text/html": [
       "<div>\n",
       "<style scoped>\n",
       "    .dataframe tbody tr th:only-of-type {\n",
       "        vertical-align: middle;\n",
       "    }\n",
       "\n",
       "    .dataframe tbody tr th {\n",
       "        vertical-align: top;\n",
       "    }\n",
       "\n",
       "    .dataframe thead th {\n",
       "        text-align: right;\n",
       "    }\n",
       "</style>\n",
       "<table border=\"1\" class=\"dataframe\">\n",
       "  <thead>\n",
       "    <tr style=\"text-align: right;\">\n",
       "      <th></th>\n",
       "      <th>Churn</th>\n",
       "      <th>Tenure</th>\n",
       "      <th>CityTier</th>\n",
       "      <th>WarehouseToHome</th>\n",
       "      <th>HourSpendOnApp</th>\n",
       "      <th>DeviceRegistered</th>\n",
       "      <th>SatisfactionScore</th>\n",
       "      <th>NumberOfAddress</th>\n",
       "      <th>Complain</th>\n",
       "      <th>OrderIncreaseFromLastYear</th>\n",
       "      <th>CouponUsed</th>\n",
       "      <th>OrderCount</th>\n",
       "      <th>DaySinceLastOrder</th>\n",
       "    </tr>\n",
       "  </thead>\n",
       "  <tbody>\n",
       "    <tr>\n",
       "      <th>count</th>\n",
       "      <td>1896.000000</td>\n",
       "      <td>1739.000000</td>\n",
       "      <td>1896.000000</td>\n",
       "      <td>1744.000000</td>\n",
       "      <td>1766.000000</td>\n",
       "      <td>1896.000000</td>\n",
       "      <td>1896.000000</td>\n",
       "      <td>1896.000000</td>\n",
       "      <td>1896.000000</td>\n",
       "      <td>1855.000000</td>\n",
       "      <td>1817.000000</td>\n",
       "      <td>1837.000000</td>\n",
       "      <td>1812.000000</td>\n",
       "    </tr>\n",
       "    <tr>\n",
       "      <th>mean</th>\n",
       "      <td>0.500000</td>\n",
       "      <td>7.347901</td>\n",
       "      <td>1.719409</td>\n",
       "      <td>15.922018</td>\n",
       "      <td>2.682899</td>\n",
       "      <td>3.543776</td>\n",
       "      <td>3.275316</td>\n",
       "      <td>4.088080</td>\n",
       "      <td>0.385549</td>\n",
       "      <td>15.391914</td>\n",
       "      <td>1.470556</td>\n",
       "      <td>2.694066</td>\n",
       "      <td>3.786976</td>\n",
       "    </tr>\n",
       "    <tr>\n",
       "      <th>std</th>\n",
       "      <td>0.500132</td>\n",
       "      <td>8.149302</td>\n",
       "      <td>0.936148</td>\n",
       "      <td>8.498368</td>\n",
       "      <td>0.679286</td>\n",
       "      <td>1.015023</td>\n",
       "      <td>1.269551</td>\n",
       "      <td>2.694888</td>\n",
       "      <td>0.486853</td>\n",
       "      <td>3.695976</td>\n",
       "      <td>1.862077</td>\n",
       "      <td>2.866878</td>\n",
       "      <td>3.540237</td>\n",
       "    </tr>\n",
       "    <tr>\n",
       "      <th>min</th>\n",
       "      <td>0.000000</td>\n",
       "      <td>0.000000</td>\n",
       "      <td>1.000000</td>\n",
       "      <td>5.000000</td>\n",
       "      <td>0.000000</td>\n",
       "      <td>1.000000</td>\n",
       "      <td>1.000000</td>\n",
       "      <td>1.000000</td>\n",
       "      <td>0.000000</td>\n",
       "      <td>11.000000</td>\n",
       "      <td>0.000000</td>\n",
       "      <td>1.000000</td>\n",
       "      <td>0.000000</td>\n",
       "    </tr>\n",
       "    <tr>\n",
       "      <th>25%</th>\n",
       "      <td>0.000000</td>\n",
       "      <td>1.000000</td>\n",
       "      <td>1.000000</td>\n",
       "      <td>9.000000</td>\n",
       "      <td>2.000000</td>\n",
       "      <td>3.000000</td>\n",
       "      <td>2.000000</td>\n",
       "      <td>2.000000</td>\n",
       "      <td>0.000000</td>\n",
       "      <td>12.000000</td>\n",
       "      <td>0.000000</td>\n",
       "      <td>1.000000</td>\n",
       "      <td>1.000000</td>\n",
       "    </tr>\n",
       "    <tr>\n",
       "      <th>50%</th>\n",
       "      <td>0.500000</td>\n",
       "      <td>4.000000</td>\n",
       "      <td>1.000000</td>\n",
       "      <td>14.000000</td>\n",
       "      <td>3.000000</td>\n",
       "      <td>3.000000</td>\n",
       "      <td>3.000000</td>\n",
       "      <td>3.000000</td>\n",
       "      <td>0.000000</td>\n",
       "      <td>14.000000</td>\n",
       "      <td>1.000000</td>\n",
       "      <td>2.000000</td>\n",
       "      <td>3.000000</td>\n",
       "    </tr>\n",
       "    <tr>\n",
       "      <th>75%</th>\n",
       "      <td>1.000000</td>\n",
       "      <td>13.000000</td>\n",
       "      <td>3.000000</td>\n",
       "      <td>22.000000</td>\n",
       "      <td>3.000000</td>\n",
       "      <td>4.000000</td>\n",
       "      <td>4.000000</td>\n",
       "      <td>6.000000</td>\n",
       "      <td>1.000000</td>\n",
       "      <td>18.000000</td>\n",
       "      <td>2.000000</td>\n",
       "      <td>3.000000</td>\n",
       "      <td>7.000000</td>\n",
       "    </tr>\n",
       "    <tr>\n",
       "      <th>max</th>\n",
       "      <td>1.000000</td>\n",
       "      <td>50.000000</td>\n",
       "      <td>3.000000</td>\n",
       "      <td>36.000000</td>\n",
       "      <td>4.000000</td>\n",
       "      <td>6.000000</td>\n",
       "      <td>5.000000</td>\n",
       "      <td>21.000000</td>\n",
       "      <td>1.000000</td>\n",
       "      <td>26.000000</td>\n",
       "      <td>16.000000</td>\n",
       "      <td>16.000000</td>\n",
       "      <td>46.000000</td>\n",
       "    </tr>\n",
       "  </tbody>\n",
       "</table>\n",
       "</div>"
      ],
      "text/plain": [
       "             Churn       Tenure     CityTier  WarehouseToHome  HourSpendOnApp  \\\n",
       "count  1896.000000  1739.000000  1896.000000      1744.000000     1766.000000   \n",
       "mean      0.500000     7.347901     1.719409        15.922018        2.682899   \n",
       "std       0.500132     8.149302     0.936148         8.498368        0.679286   \n",
       "min       0.000000     0.000000     1.000000         5.000000        0.000000   \n",
       "25%       0.000000     1.000000     1.000000         9.000000        2.000000   \n",
       "50%       0.500000     4.000000     1.000000        14.000000        3.000000   \n",
       "75%       1.000000    13.000000     3.000000        22.000000        3.000000   \n",
       "max       1.000000    50.000000     3.000000        36.000000        4.000000   \n",
       "\n",
       "       DeviceRegistered  SatisfactionScore  NumberOfAddress     Complain  \\\n",
       "count       1896.000000        1896.000000      1896.000000  1896.000000   \n",
       "mean           3.543776           3.275316         4.088080     0.385549   \n",
       "std            1.015023           1.269551         2.694888     0.486853   \n",
       "min            1.000000           1.000000         1.000000     0.000000   \n",
       "25%            3.000000           2.000000         2.000000     0.000000   \n",
       "50%            3.000000           3.000000         3.000000     0.000000   \n",
       "75%            4.000000           4.000000         6.000000     1.000000   \n",
       "max            6.000000           5.000000        21.000000     1.000000   \n",
       "\n",
       "       OrderIncreaseFromLastYear   CouponUsed   OrderCount  DaySinceLastOrder  \n",
       "count                1855.000000  1817.000000  1837.000000        1812.000000  \n",
       "mean                   15.391914     1.470556     2.694066           3.786976  \n",
       "std                     3.695976     1.862077     2.866878           3.540237  \n",
       "min                    11.000000     0.000000     1.000000           0.000000  \n",
       "25%                    12.000000     0.000000     1.000000           1.000000  \n",
       "50%                    14.000000     1.000000     2.000000           3.000000  \n",
       "75%                    18.000000     2.000000     3.000000           7.000000  \n",
       "max                    26.000000    16.000000    16.000000          46.000000  "
      ]
     },
     "execution_count": 5,
     "metadata": {},
     "output_type": "execute_result"
    }
   ],
   "source": [
    "df.describe()"
   ]
  },
  {
   "cell_type": "markdown",
   "metadata": {},
   "source": [
    "### Prepocessing Data "
   ]
  },
  {
   "cell_type": "code",
   "execution_count": 6,
   "metadata": {},
   "outputs": [
    {
     "name": "stderr",
     "output_type": "stream",
     "text": [
      "Matplotlib is building the font cache; this may take a moment.\n"
     ]
    }
   ],
   "source": [
    "import matplotlib.pyplot as plt\n",
    "%matplotlib inline\n",
    "\n",
    "plt.style.use(\"seaborn\")\n",
    "import seaborn as sns"
   ]
  },
  {
   "cell_type": "code",
   "execution_count": 7,
   "metadata": {},
   "outputs": [
    {
     "data": {
      "text/plain": [
       "<AxesSubplot:>"
      ]
     },
     "execution_count": 7,
     "metadata": {},
     "output_type": "execute_result"
    },
    {
     "data": {
      "image/png": "[encoded data removed]",
      "text/plain": [
       "<Figure size 576x396 with 2 Axes>"
      ]
     },
     "metadata": {},
     "output_type": "display_data"
    }
   ],
   "source": [
    "corr=df.corr()\n",
    "sns.heatmap(corr)"
   ]
  },
  {
   "cell_type": "code",
   "execution_count": 9,
   "metadata": {},
   "outputs": [],
   "source": [
    "import numpy as np"
   ]
  },
  {
   "cell_type": "code",
   "execution_count": 10,
   "metadata": {},
   "outputs": [
    {
     "name": "stdout",
     "output_type": "stream",
     "text": [
      "<class 'pandas.core.frame.DataFrame'>\n",
      "Int64Index: 1896 entries, 50027 to 55622\n",
      "Data columns (total 19 columns):\n",
      " #   Column                     Non-Null Count  Dtype  \n",
      "---  ------                     --------------  -----  \n",
      " 0   Churn                      1896 non-null   int64  \n",
      " 1   Tenure                     1739 non-null   float64\n",
      " 2   PreferredLoginDevice       1896 non-null   object \n",
      " 3   CityTier                   1896 non-null   int64  \n",
      " 4   WarehouseToHome            1744 non-null   float64\n",
      " 5   PreferredPaymentMode       1896 non-null   object \n",
      " 6   Gender                     1896 non-null   object \n",
      " 7   HourSpendOnApp             1766 non-null   float64\n",
      " 8   DeviceRegistered           1896 non-null   int64  \n",
      " 9   PreferedOrderCat           1896 non-null   object \n",
      " 10  SatisfactionScore          1896 non-null   int64  \n",
      " 11  MaritalStatus              1896 non-null   object \n",
      " 12  NumberOfAddress            1896 non-null   int64  \n",
      " 13  Complain                   1896 non-null   int64  \n",
      " 14  OrderIncreaseFromLastYear  1855 non-null   float64\n",
      " 15  CouponUsed                 1817 non-null   float64\n",
      " 16  OrderCount                 1837 non-null   float64\n",
      " 17  DaySinceLastOrder          1812 non-null   float64\n",
      " 18  CashbackAmount             1896 non-null   object \n",
      "dtypes: float64(7), int64(6), object(6)\n",
      "memory usage: 296.2+ KB\n"
     ]
    }
   ],
   "source": [
    "df.info()"
   ]
  },
  {
   "cell_type": "code",
   "execution_count": 11,
   "metadata": {},
   "outputs": [
    {
     "data": {
      "text/plain": [
       "Churn                          0\n",
       "Tenure                       157\n",
       "PreferredLoginDevice           0\n",
       "CityTier                       0\n",
       "WarehouseToHome              152\n",
       "PreferredPaymentMode           0\n",
       "Gender                         0\n",
       "HourSpendOnApp               130\n",
       "DeviceRegistered               0\n",
       "PreferedOrderCat               0\n",
       "SatisfactionScore              0\n",
       "MaritalStatus                  0\n",
       "NumberOfAddress                0\n",
       "Complain                       0\n",
       "OrderIncreaseFromLastYear     41\n",
       "CouponUsed                    79\n",
       "OrderCount                    59\n",
       "DaySinceLastOrder             84\n",
       "CashbackAmount                 0\n",
       "dtype: int64"
      ]
     },
     "execution_count": 11,
     "metadata": {},
     "output_type": "execute_result"
    }
   ],
   "source": [
    "np.sum(df.isnull())"
   ]
  },
  {
   "cell_type": "code",
   "execution_count": 12,
   "metadata": {},
   "outputs": [],
   "source": [
    "from scipy.stats import mode"
   ]
  },
  {
   "cell_type": "code",
   "execution_count": 13,
   "metadata": {},
   "outputs": [
    {
     "data": {
      "text/plain": [
       "7.347901092581943"
      ]
     },
     "execution_count": 13,
     "metadata": {},
     "output_type": "execute_result"
    }
   ],
   "source": [
    "df[\"Tenure\"].mean()"
   ]
  },
  {
   "cell_type": "code",
   "execution_count": 14,
   "metadata": {},
   "outputs": [
    {
     "data": {
      "text/plain": [
       "15.922018348623853"
      ]
     },
     "execution_count": 14,
     "metadata": {},
     "output_type": "execute_result"
    }
   ],
   "source": [
    "df[\"WarehouseToHome\"].mean()"
   ]
  },
  {
   "cell_type": "code",
   "execution_count": 15,
   "metadata": {},
   "outputs": [
    {
     "data": {
      "text/plain": [
       "2.6828992072480182"
      ]
     },
     "execution_count": 15,
     "metadata": {},
     "output_type": "execute_result"
    }
   ],
   "source": [
    "df[\"HourSpendOnApp\"].mean()"
   ]
  },
  {
   "cell_type": "code",
   "execution_count": 16,
   "metadata": {},
   "outputs": [
    {
     "data": {
      "text/plain": [
       "15.391913746630728"
      ]
     },
     "execution_count": 16,
     "metadata": {},
     "output_type": "execute_result"
    }
   ],
   "source": [
    "df[\"OrderIncreaseFromLastYear\"].mean()"
   ]
  },
  {
   "cell_type": "code",
   "execution_count": 17,
   "metadata": {},
   "outputs": [
    {
     "data": {
      "text/plain": [
       "1.4705558613098515"
      ]
     },
     "execution_count": 17,
     "metadata": {},
     "output_type": "execute_result"
    }
   ],
   "source": [
    "df[\"CouponUsed\"].mean()"
   ]
  },
  {
   "cell_type": "code",
   "execution_count": 18,
   "metadata": {},
   "outputs": [
    {
     "data": {
      "text/plain": [
       "2.694066412629287"
      ]
     },
     "execution_count": 18,
     "metadata": {},
     "output_type": "execute_result"
    }
   ],
   "source": [
    "df[\"OrderCount\"].mean()"
   ]
  },
  {
   "cell_type": "code",
   "execution_count": 19,
   "metadata": {},
   "outputs": [
    {
     "data": {
      "text/plain": [
       "3.7869757174392937"
      ]
     },
     "execution_count": 19,
     "metadata": {},
     "output_type": "execute_result"
    }
   ],
   "source": [
    "df[\"DaySinceLastOrder\"].mean()"
   ]
  },
  {
   "cell_type": "code",
   "execution_count": 20,
   "metadata": {},
   "outputs": [],
   "source": [
    "df[\"Tenure\"]=df[\"Tenure\"].fillna(df[\"Tenure\"].mean())\n",
    "df[\"WarehouseToHome\"]=df[\"WarehouseToHome\"].fillna(df[\"WarehouseToHome\"].mean())\n",
    "df[\"HourSpendOnApp\"]=df[\"HourSpendOnApp\"].fillna(df[\"HourSpendOnApp\"].mean())\n",
    "df[\"OrderIncreaseFromLastYear\"]=df[\"OrderIncreaseFromLastYear\"].fillna(df[\"OrderIncreaseFromLastYear\"].mean())\n",
    "df[\"CouponUsed\"]=df[\"CouponUsed\"].fillna(df[\"CouponUsed\"].mean())\n",
    "df[\"OrderCount\"]=df[\"OrderCount\"].fillna(df[\"OrderCount\"].mean())\n",
    "df[\"DaySinceLastOrder\"]=df[\"DaySinceLastOrder\"].fillna(df[\"DaySinceLastOrder\"].mean())"
   ]
  },
  {
   "cell_type": "code",
   "execution_count": 21,
   "metadata": {},
   "outputs": [
    {
     "data": {
      "text/plain": [
       "Churn                        0\n",
       "Tenure                       0\n",
       "PreferredLoginDevice         0\n",
       "CityTier                     0\n",
       "WarehouseToHome              0\n",
       "PreferredPaymentMode         0\n",
       "Gender                       0\n",
       "HourSpendOnApp               0\n",
       "DeviceRegistered             0\n",
       "PreferedOrderCat             0\n",
       "SatisfactionScore            0\n",
       "MaritalStatus                0\n",
       "NumberOfAddress              0\n",
       "Complain                     0\n",
       "OrderIncreaseFromLastYear    0\n",
       "CouponUsed                   0\n",
       "OrderCount                   0\n",
       "DaySinceLastOrder            0\n",
       "CashbackAmount               0\n",
       "dtype: int64"
      ]
     },
     "execution_count": 21,
     "metadata": {},
     "output_type": "execute_result"
    }
   ],
   "source": [
    "df.isnull().sum()"
   ]
  },
  {
   "cell_type": "code",
   "execution_count": 22,
   "metadata": {},
   "outputs": [
    {
     "name": "stdout",
     "output_type": "stream",
     "text": [
      "[[1.00000000e+00 8.35771126e-02 1.36829758e+00 ... 2.58210991e-01\n",
      "  6.00487593e-01 6.39607762e-01]\n",
      " [1.00000000e+00 1.13834553e-16 1.36829758e+00 ... 8.06947096e-01\n",
      "  4.62908013e-01 3.50587995e-01]\n",
      " [1.00000000e+00 1.36524024e+00 7.68681175e-01 ... 2.58210991e-01\n",
      "  6.00487593e-01 3.24078566e+00]\n",
      " ...\n",
      " [1.00000000e+00 1.62157287e+00 7.68681175e-01 ... 3.03420564e+00\n",
      "  2.58969922e+00 1.50666706e+00]\n",
      " [1.00000000e+00 8.52574990e-01 1.36829758e+00 ... 2.90525115e-01\n",
      "  2.46022391e-01 5.16471305e-01]\n",
      " [1.00000000e+00 8.52574990e-01 1.36829758e+00 ... 8.39261220e-01\n",
      "  0.00000000e+00 8.05491071e-01]]\n"
     ]
    }
   ],
   "source": [
    "from scipy import stats\n",
    "z=np.abs(stats.zscore(df._get_numeric_data()))\n",
    "print(z)"
   ]
  },
  {
   "cell_type": "code",
   "execution_count": 23,
   "metadata": {},
   "outputs": [
    {
     "name": "stdout",
     "output_type": "stream",
     "text": [
      "(1795, 19)\n"
     ]
    }
   ],
   "source": [
    "outlier=df[(z<3).all(axis=1)]\n",
    "print(outlier.shape)"
   ]
  },
  {
   "cell_type": "code",
   "execution_count": 24,
   "metadata": {},
   "outputs": [],
   "source": [
    "import seaborn as sns\n",
    "sns.set(style=\"whitegrid\")"
   ]
  },
  {
   "cell_type": "code",
   "execution_count": 25,
   "metadata": {},
   "outputs": [
    {
     "data": {
      "text/html": [
       "<div>\n",
       "<style scoped>\n",
       "    .dataframe tbody tr th:only-of-type {\n",
       "        vertical-align: middle;\n",
       "    }\n",
       "\n",
       "    .dataframe tbody tr th {\n",
       "        vertical-align: top;\n",
       "    }\n",
       "\n",
       "    .dataframe thead th {\n",
       "        text-align: right;\n",
       "    }\n",
       "</style>\n",
       "<table border=\"1\" class=\"dataframe\">\n",
       "  <thead>\n",
       "    <tr style=\"text-align: right;\">\n",
       "      <th></th>\n",
       "      <th>Keterangan:</th>\n",
       "      <th>jumlah observasi</th>\n",
       "    </tr>\n",
       "  </thead>\n",
       "  <tbody>\n",
       "    <tr>\n",
       "      <th>0</th>\n",
       "      <td>tidak ada outlier</td>\n",
       "      <td>1795</td>\n",
       "    </tr>\n",
       "    <tr>\n",
       "      <th>1</th>\n",
       "      <td>outlier</td>\n",
       "      <td>101</td>\n",
       "    </tr>\n",
       "  </tbody>\n",
       "</table>\n",
       "</div>"
      ],
      "text/plain": [
       "         Keterangan:  jumlah observasi\n",
       "0  tidak ada outlier              1795\n",
       "1            outlier               101"
      ]
     },
     "execution_count": 25,
     "metadata": {},
     "output_type": "execute_result"
    }
   ],
   "source": [
    "c=pd.DataFrame([])\n",
    "c[\"Keterangan:\"]=[\"tidak ada outlier\",\"outlier\"]\n",
    "c[\"jumlah observasi\"]=[1795,1896-1795]\n",
    "c"
   ]
  },
  {
   "cell_type": "code",
   "execution_count": 26,
   "metadata": {},
   "outputs": [
    {
     "data": {
      "image/png": "[encoded data removed]",
      "text/plain": [
       "<Figure size 576x396 with 1 Axes>"
      ]
     },
     "metadata": {},
     "output_type": "display_data"
    }
   ],
   "source": [
    "plot=sns.barplot(x=\"Keterangan:\",y=\"jumlah observasi\",data=c)"
   ]
  },
  {
   "cell_type": "markdown",
   "metadata": {},
   "source": [
    "### Visualisasi Data "
   ]
  },
  {
   "cell_type": "code",
   "execution_count": 27,
   "metadata": {},
   "outputs": [],
   "source": [
    "sns.set(style=\"whitegrid\")"
   ]
  },
  {
   "cell_type": "code",
   "execution_count": 28,
   "metadata": {},
   "outputs": [
    {
     "data": {
      "text/plain": [
       "<AxesSubplot:xlabel='Tenure', ylabel='PreferredLoginDevice'>"
      ]
     },
     "execution_count": 28,
     "metadata": {},
     "output_type": "execute_result"
    },
    {
     "data": {
      "image/png": "[encoded data removed]",
      "text/plain": [
       "<Figure size 576x396 with 1 Axes>"
      ]
     },
     "metadata": {},
     "output_type": "display_data"
    }
   ],
   "source": [
    "sns.barplot(x=\"Tenure\",y=\"PreferredLoginDevice\",data=df)"
   ]
  },
  {
   "cell_type": "code",
   "execution_count": 29,
   "metadata": {},
   "outputs": [
    {
     "data": {
      "text/plain": [
       "<AxesSubplot:xlabel='CityTier', ylabel='PreferredPaymentMode'>"
      ]
     },
     "execution_count": 29,
     "metadata": {},
     "output_type": "execute_result"
    },
    {
     "data": {
      "image/png": "[encoded data removed]",
      "text/plain": [
       "<Figure size 576x396 with 1 Axes>"
      ]
     },
     "metadata": {},
     "output_type": "display_data"
    }
   ],
   "source": [
    "sns.barplot(x=\"CityTier\",y=\"PreferredPaymentMode\",data=df)"
   ]
  },
  {
   "cell_type": "code",
   "execution_count": 30,
   "metadata": {},
   "outputs": [
    {
     "data": {
      "text/plain": [
       "<AxesSubplot:xlabel='Gender', ylabel='SatisfactionScore'>"
      ]
     },
     "execution_count": 30,
     "metadata": {},
     "output_type": "execute_result"
    },
    {
     "data": {
      "image/png": "[encoded data removed]",
      "text/plain": [
       "<Figure size 576x396 with 1 Axes>"
      ]
     },
     "metadata": {},
     "output_type": "display_data"
    }
   ],
   "source": [
    "sns.barplot(y=\"SatisfactionScore\",x=\"Gender\",data=df)"
   ]
  },
  {
   "cell_type": "code",
   "execution_count": 31,
   "metadata": {},
   "outputs": [
    {
     "data": {
      "text/html": [
       "<div>\n",
       "<style scoped>\n",
       "    .dataframe tbody tr th:only-of-type {\n",
       "        vertical-align: middle;\n",
       "    }\n",
       "\n",
       "    .dataframe tbody tr th {\n",
       "        vertical-align: top;\n",
       "    }\n",
       "\n",
       "    .dataframe thead th {\n",
       "        text-align: right;\n",
       "    }\n",
       "</style>\n",
       "<table border=\"1\" class=\"dataframe\">\n",
       "  <thead>\n",
       "    <tr style=\"text-align: right;\">\n",
       "      <th></th>\n",
       "      <th>Churn</th>\n",
       "      <th>Tenure</th>\n",
       "      <th>PreferredLoginDevice</th>\n",
       "      <th>CityTier</th>\n",
       "      <th>WarehouseToHome</th>\n",
       "      <th>PreferredPaymentMode</th>\n",
       "      <th>Gender</th>\n",
       "      <th>HourSpendOnApp</th>\n",
       "      <th>DeviceRegistered</th>\n",
       "      <th>PreferedOrderCat</th>\n",
       "      <th>SatisfactionScore</th>\n",
       "      <th>MaritalStatus</th>\n",
       "      <th>NumberOfAddress</th>\n",
       "      <th>Complain</th>\n",
       "      <th>OrderIncreaseFromLastYear</th>\n",
       "      <th>CouponUsed</th>\n",
       "      <th>OrderCount</th>\n",
       "      <th>DaySinceLastOrder</th>\n",
       "      <th>CashbackAmount</th>\n",
       "    </tr>\n",
       "    <tr>\n",
       "      <th>CustomerID</th>\n",
       "      <th></th>\n",
       "      <th></th>\n",
       "      <th></th>\n",
       "      <th></th>\n",
       "      <th></th>\n",
       "      <th></th>\n",
       "      <th></th>\n",
       "      <th></th>\n",
       "      <th></th>\n",
       "      <th></th>\n",
       "      <th></th>\n",
       "      <th></th>\n",
       "      <th></th>\n",
       "      <th></th>\n",
       "      <th></th>\n",
       "      <th></th>\n",
       "      <th></th>\n",
       "      <th></th>\n",
       "      <th></th>\n",
       "    </tr>\n",
       "  </thead>\n",
       "  <tbody>\n",
       "    <tr>\n",
       "      <th>50027</th>\n",
       "      <td>0</td>\n",
       "      <td>8.000000</td>\n",
       "      <td>Mobile Phone</td>\n",
       "      <td>3</td>\n",
       "      <td>6.000000</td>\n",
       "      <td>E wallet</td>\n",
       "      <td>Male</td>\n",
       "      <td>3.0</td>\n",
       "      <td>3</td>\n",
       "      <td>Fashion</td>\n",
       "      <td>4</td>\n",
       "      <td>Divorced</td>\n",
       "      <td>2</td>\n",
       "      <td>0</td>\n",
       "      <td>13.0</td>\n",
       "      <td>1.0</td>\n",
       "      <td>1.0</td>\n",
       "      <td>6.0</td>\n",
       "      <td>172,95</td>\n",
       "    </tr>\n",
       "    <tr>\n",
       "      <th>50028</th>\n",
       "      <td>0</td>\n",
       "      <td>7.347901</td>\n",
       "      <td>Phone</td>\n",
       "      <td>3</td>\n",
       "      <td>12.000000</td>\n",
       "      <td>E wallet</td>\n",
       "      <td>Male</td>\n",
       "      <td>2.0</td>\n",
       "      <td>3</td>\n",
       "      <td>Laptop &amp; Accessory</td>\n",
       "      <td>3</td>\n",
       "      <td>Divorced</td>\n",
       "      <td>3</td>\n",
       "      <td>1</td>\n",
       "      <td>20.0</td>\n",
       "      <td>0.0</td>\n",
       "      <td>4.0</td>\n",
       "      <td>5.0</td>\n",
       "      <td>123,06</td>\n",
       "    </tr>\n",
       "    <tr>\n",
       "      <th>50029</th>\n",
       "      <td>0</td>\n",
       "      <td>18.000000</td>\n",
       "      <td>Phone</td>\n",
       "      <td>1</td>\n",
       "      <td>15.922018</td>\n",
       "      <td>Debit Card</td>\n",
       "      <td>Male</td>\n",
       "      <td>2.0</td>\n",
       "      <td>3</td>\n",
       "      <td>Laptop &amp; Accessory</td>\n",
       "      <td>4</td>\n",
       "      <td>Married</td>\n",
       "      <td>9</td>\n",
       "      <td>0</td>\n",
       "      <td>18.0</td>\n",
       "      <td>1.0</td>\n",
       "      <td>1.0</td>\n",
       "      <td>15.0</td>\n",
       "      <td>123,48</td>\n",
       "    </tr>\n",
       "    <tr>\n",
       "      <th>50030</th>\n",
       "      <td>0</td>\n",
       "      <td>5.000000</td>\n",
       "      <td>Computer</td>\n",
       "      <td>3</td>\n",
       "      <td>14.000000</td>\n",
       "      <td>E wallet</td>\n",
       "      <td>Female</td>\n",
       "      <td>2.0</td>\n",
       "      <td>3</td>\n",
       "      <td>Fashion</td>\n",
       "      <td>2</td>\n",
       "      <td>Single</td>\n",
       "      <td>2</td>\n",
       "      <td>0</td>\n",
       "      <td>14.0</td>\n",
       "      <td>2.0</td>\n",
       "      <td>3.0</td>\n",
       "      <td>7.0</td>\n",
       "      <td>189,98</td>\n",
       "    </tr>\n",
       "    <tr>\n",
       "      <th>50031</th>\n",
       "      <td>0</td>\n",
       "      <td>2.000000</td>\n",
       "      <td>Computer</td>\n",
       "      <td>1</td>\n",
       "      <td>6.000000</td>\n",
       "      <td>COD</td>\n",
       "      <td>Male</td>\n",
       "      <td>2.0</td>\n",
       "      <td>3</td>\n",
       "      <td>Laptop &amp; Accessory</td>\n",
       "      <td>3</td>\n",
       "      <td>Divorced</td>\n",
       "      <td>2</td>\n",
       "      <td>0</td>\n",
       "      <td>13.0</td>\n",
       "      <td>0.0</td>\n",
       "      <td>1.0</td>\n",
       "      <td>9.0</td>\n",
       "      <td>143,19</td>\n",
       "    </tr>\n",
       "  </tbody>\n",
       "</table>\n",
       "</div>"
      ],
      "text/plain": [
       "            Churn     Tenure PreferredLoginDevice  CityTier  WarehouseToHome  \\\n",
       "CustomerID                                                                     \n",
       "50027           0   8.000000         Mobile Phone         3         6.000000   \n",
       "50028           0   7.347901                Phone         3        12.000000   \n",
       "50029           0  18.000000                Phone         1        15.922018   \n",
       "50030           0   5.000000             Computer         3        14.000000   \n",
       "50031           0   2.000000             Computer         1         6.000000   \n",
       "\n",
       "           PreferredPaymentMode  Gender  HourSpendOnApp  DeviceRegistered  \\\n",
       "CustomerID                                                                  \n",
       "50027                  E wallet    Male             3.0                 3   \n",
       "50028                  E wallet    Male             2.0                 3   \n",
       "50029                Debit Card    Male             2.0                 3   \n",
       "50030                  E wallet  Female             2.0                 3   \n",
       "50031                       COD    Male             2.0                 3   \n",
       "\n",
       "              PreferedOrderCat  SatisfactionScore MaritalStatus  \\\n",
       "CustomerID                                                        \n",
       "50027                  Fashion                  4      Divorced   \n",
       "50028       Laptop & Accessory                  3      Divorced   \n",
       "50029       Laptop & Accessory                  4       Married   \n",
       "50030                  Fashion                  2        Single   \n",
       "50031       Laptop & Accessory                  3      Divorced   \n",
       "\n",
       "            NumberOfAddress  Complain  OrderIncreaseFromLastYear  CouponUsed  \\\n",
       "CustomerID                                                                     \n",
       "50027                     2         0                       13.0         1.0   \n",
       "50028                     3         1                       20.0         0.0   \n",
       "50029                     9         0                       18.0         1.0   \n",
       "50030                     2         0                       14.0         2.0   \n",
       "50031                     2         0                       13.0         0.0   \n",
       "\n",
       "            OrderCount  DaySinceLastOrder CashbackAmount  \n",
       "CustomerID                                                \n",
       "50027              1.0                6.0         172,95  \n",
       "50028              4.0                5.0         123,06  \n",
       "50029              1.0               15.0         123,48  \n",
       "50030              3.0                7.0         189,98  \n",
       "50031              1.0                9.0         143,19  "
      ]
     },
     "execution_count": 31,
     "metadata": {},
     "output_type": "execute_result"
    }
   ],
   "source": [
    "df.head(5)"
   ]
  },
  {
   "cell_type": "code",
   "execution_count": 32,
   "metadata": {},
   "outputs": [],
   "source": [
    "kategori=[\"Churn\",\"Tenure\",\"PreferredLoginDevice\",\"CityTier\",\"WarehouseToHome\",\"PreferredPaymentMode\",\"Gender\",\"HourSpendOnApp\",\"DeviceRegistered\",\"PreferedOrderCat\",\"SatisfactionScore\",\"MaritalStatus\",\"NumberOfAddress\",\"Complain\",\"OrderIncreaseFromLastYear\",\"CouponUsed\",\"OrderCount\",\"DaySinceLastOrder\",\"CashbackAmount\",\"CustomerID\"]\n",
    "from sklearn import preprocessing\n",
    "le=preprocessing.LabelEncoder()\n",
    "for feature in kategori:\n",
    "    if feature in df.columns.values:\n",
    "        df[feature]=le.fit_transform(df[feature])"
   ]
  },
  {
   "cell_type": "code",
   "execution_count": 33,
   "metadata": {},
   "outputs": [
    {
     "data": {
      "text/html": [
       "<div>\n",
       "<style scoped>\n",
       "    .dataframe tbody tr th:only-of-type {\n",
       "        vertical-align: middle;\n",
       "    }\n",
       "\n",
       "    .dataframe tbody tr th {\n",
       "        vertical-align: top;\n",
       "    }\n",
       "\n",
       "    .dataframe thead th {\n",
       "        text-align: right;\n",
       "    }\n",
       "</style>\n",
       "<table border=\"1\" class=\"dataframe\">\n",
       "  <thead>\n",
       "    <tr style=\"text-align: right;\">\n",
       "      <th></th>\n",
       "      <th>Churn</th>\n",
       "      <th>Tenure</th>\n",
       "      <th>PreferredLoginDevice</th>\n",
       "      <th>CityTier</th>\n",
       "      <th>WarehouseToHome</th>\n",
       "      <th>PreferredPaymentMode</th>\n",
       "      <th>Gender</th>\n",
       "      <th>HourSpendOnApp</th>\n",
       "      <th>DeviceRegistered</th>\n",
       "      <th>PreferedOrderCat</th>\n",
       "      <th>SatisfactionScore</th>\n",
       "      <th>MaritalStatus</th>\n",
       "      <th>NumberOfAddress</th>\n",
       "      <th>Complain</th>\n",
       "      <th>OrderIncreaseFromLastYear</th>\n",
       "      <th>CouponUsed</th>\n",
       "      <th>OrderCount</th>\n",
       "      <th>DaySinceLastOrder</th>\n",
       "      <th>CashbackAmount</th>\n",
       "    </tr>\n",
       "    <tr>\n",
       "      <th>CustomerID</th>\n",
       "      <th></th>\n",
       "      <th></th>\n",
       "      <th></th>\n",
       "      <th></th>\n",
       "      <th></th>\n",
       "      <th></th>\n",
       "      <th></th>\n",
       "      <th></th>\n",
       "      <th></th>\n",
       "      <th></th>\n",
       "      <th></th>\n",
       "      <th></th>\n",
       "      <th></th>\n",
       "      <th></th>\n",
       "      <th></th>\n",
       "      <th></th>\n",
       "      <th></th>\n",
       "      <th></th>\n",
       "      <th></th>\n",
       "    </tr>\n",
       "  </thead>\n",
       "  <tbody>\n",
       "    <tr>\n",
       "      <th>50027</th>\n",
       "      <td>0</td>\n",
       "      <td>9</td>\n",
       "      <td>1</td>\n",
       "      <td>2</td>\n",
       "      <td>1</td>\n",
       "      <td>5</td>\n",
       "      <td>1</td>\n",
       "      <td>4</td>\n",
       "      <td>2</td>\n",
       "      <td>0</td>\n",
       "      <td>3</td>\n",
       "      <td>0</td>\n",
       "      <td>1</td>\n",
       "      <td>0</td>\n",
       "      <td>2</td>\n",
       "      <td>1</td>\n",
       "      <td>0</td>\n",
       "      <td>7</td>\n",
       "      <td>894</td>\n",
       "    </tr>\n",
       "    <tr>\n",
       "      <th>50028</th>\n",
       "      <td>0</td>\n",
       "      <td>8</td>\n",
       "      <td>2</td>\n",
       "      <td>2</td>\n",
       "      <td>7</td>\n",
       "      <td>5</td>\n",
       "      <td>1</td>\n",
       "      <td>2</td>\n",
       "      <td>2</td>\n",
       "      <td>2</td>\n",
       "      <td>2</td>\n",
       "      <td>0</td>\n",
       "      <td>2</td>\n",
       "      <td>1</td>\n",
       "      <td>10</td>\n",
       "      <td>0</td>\n",
       "      <td>4</td>\n",
       "      <td>6</td>\n",
       "      <td>109</td>\n",
       "    </tr>\n",
       "    <tr>\n",
       "      <th>50029</th>\n",
       "      <td>0</td>\n",
       "      <td>19</td>\n",
       "      <td>2</td>\n",
       "      <td>0</td>\n",
       "      <td>11</td>\n",
       "      <td>4</td>\n",
       "      <td>1</td>\n",
       "      <td>2</td>\n",
       "      <td>2</td>\n",
       "      <td>2</td>\n",
       "      <td>3</td>\n",
       "      <td>1</td>\n",
       "      <td>8</td>\n",
       "      <td>0</td>\n",
       "      <td>8</td>\n",
       "      <td>1</td>\n",
       "      <td>0</td>\n",
       "      <td>16</td>\n",
       "      <td>129</td>\n",
       "    </tr>\n",
       "    <tr>\n",
       "      <th>50030</th>\n",
       "      <td>0</td>\n",
       "      <td>5</td>\n",
       "      <td>0</td>\n",
       "      <td>2</td>\n",
       "      <td>9</td>\n",
       "      <td>5</td>\n",
       "      <td>0</td>\n",
       "      <td>2</td>\n",
       "      <td>2</td>\n",
       "      <td>0</td>\n",
       "      <td>1</td>\n",
       "      <td>2</td>\n",
       "      <td>1</td>\n",
       "      <td>0</td>\n",
       "      <td>3</td>\n",
       "      <td>3</td>\n",
       "      <td>3</td>\n",
       "      <td>8</td>\n",
       "      <td>995</td>\n",
       "    </tr>\n",
       "    <tr>\n",
       "      <th>50031</th>\n",
       "      <td>0</td>\n",
       "      <td>2</td>\n",
       "      <td>0</td>\n",
       "      <td>0</td>\n",
       "      <td>1</td>\n",
       "      <td>1</td>\n",
       "      <td>1</td>\n",
       "      <td>2</td>\n",
       "      <td>2</td>\n",
       "      <td>2</td>\n",
       "      <td>2</td>\n",
       "      <td>0</td>\n",
       "      <td>1</td>\n",
       "      <td>0</td>\n",
       "      <td>2</td>\n",
       "      <td>0</td>\n",
       "      <td>0</td>\n",
       "      <td>10</td>\n",
       "      <td>456</td>\n",
       "    </tr>\n",
       "  </tbody>\n",
       "</table>\n",
       "</div>"
      ],
      "text/plain": [
       "            Churn  Tenure  PreferredLoginDevice  CityTier  WarehouseToHome  \\\n",
       "CustomerID                                                                   \n",
       "50027           0       9                     1         2                1   \n",
       "50028           0       8                     2         2                7   \n",
       "50029           0      19                     2         0               11   \n",
       "50030           0       5                     0         2                9   \n",
       "50031           0       2                     0         0                1   \n",
       "\n",
       "            PreferredPaymentMode  Gender  HourSpendOnApp  DeviceRegistered  \\\n",
       "CustomerID                                                                   \n",
       "50027                          5       1               4                 2   \n",
       "50028                          5       1               2                 2   \n",
       "50029                          4       1               2                 2   \n",
       "50030                          5       0               2                 2   \n",
       "50031                          1       1               2                 2   \n",
       "\n",
       "            PreferedOrderCat  SatisfactionScore  MaritalStatus  \\\n",
       "CustomerID                                                       \n",
       "50027                      0                  3              0   \n",
       "50028                      2                  2              0   \n",
       "50029                      2                  3              1   \n",
       "50030                      0                  1              2   \n",
       "50031                      2                  2              0   \n",
       "\n",
       "            NumberOfAddress  Complain  OrderIncreaseFromLastYear  CouponUsed  \\\n",
       "CustomerID                                                                     \n",
       "50027                     1         0                          2           1   \n",
       "50028                     2         1                         10           0   \n",
       "50029                     8         0                          8           1   \n",
       "50030                     1         0                          3           3   \n",
       "50031                     1         0                          2           0   \n",
       "\n",
       "            OrderCount  DaySinceLastOrder  CashbackAmount  \n",
       "CustomerID                                                 \n",
       "50027                0                  7             894  \n",
       "50028                4                  6             109  \n",
       "50029                0                 16             129  \n",
       "50030                3                  8             995  \n",
       "50031                0                 10             456  "
      ]
     },
     "execution_count": 33,
     "metadata": {},
     "output_type": "execute_result"
    }
   ],
   "source": [
    "df.head(5)"
   ]
  },
  {
   "cell_type": "code",
   "execution_count": 34,
   "metadata": {},
   "outputs": [
    {
     "data": {
      "text/plain": [
       "Churn                        int64\n",
       "Tenure                       int64\n",
       "PreferredLoginDevice         int32\n",
       "CityTier                     int64\n",
       "WarehouseToHome              int64\n",
       "PreferredPaymentMode         int32\n",
       "Gender                       int32\n",
       "HourSpendOnApp               int64\n",
       "DeviceRegistered             int64\n",
       "PreferedOrderCat             int32\n",
       "SatisfactionScore            int64\n",
       "MaritalStatus                int32\n",
       "NumberOfAddress              int64\n",
       "Complain                     int64\n",
       "OrderIncreaseFromLastYear    int64\n",
       "CouponUsed                   int64\n",
       "OrderCount                   int64\n",
       "DaySinceLastOrder            int64\n",
       "CashbackAmount               int32\n",
       "dtype: object"
      ]
     },
     "execution_count": 34,
     "metadata": {},
     "output_type": "execute_result"
    }
   ],
   "source": [
    "df.dtypes"
   ]
  },
  {
   "cell_type": "code",
   "execution_count": 35,
   "metadata": {},
   "outputs": [],
   "source": [
    "from sklearn.preprocessing import StandardScaler\n",
    "from sklearn.decomposition import PCA"
   ]
  },
  {
   "cell_type": "code",
   "execution_count": 36,
   "metadata": {},
   "outputs": [
    {
     "data": {
      "text/plain": [
       "(19, 1896)"
      ]
     },
     "execution_count": 36,
     "metadata": {},
     "output_type": "execute_result"
    }
   ],
   "source": [
    "dfx=np.array([df[\"Churn\"],df[\"Tenure\"],df[\"PreferredLoginDevice\"],df[\"CityTier\"],df[\"WarehouseToHome\"],df[\"PreferredPaymentMode\"],df[\"Gender\"],df[\"HourSpendOnApp\"],df[\"DeviceRegistered\"],df[\"PreferedOrderCat\"],df[\"SatisfactionScore\"],df[\"MaritalStatus\"],df[\"NumberOfAddress\"],df[\"Complain\"],df[\"OrderIncreaseFromLastYear\"],df[\"CouponUsed\"],df[\"OrderCount\"],df[\"DaySinceLastOrder\"],df[\"CashbackAmount\"]])\n",
    "dfx.shape"
   ]
  },
  {
   "cell_type": "code",
   "execution_count": 37,
   "metadata": {},
   "outputs": [
    {
     "data": {
      "text/plain": [
       "array([[   0,    0,    0, ...,    1,    1,    1],\n",
       "       [   9,    8,   19, ...,   21,   15,   15],\n",
       "       [   1,    2,    2, ...,    2,    0,    1],\n",
       "       ...,\n",
       "       [   0,    4,    0, ...,   10,    1,    2],\n",
       "       [   7,    6,   16, ...,   10,    2,    1],\n",
       "       [ 894,  109,  129, ...,  572, 1001, 1163]], dtype=int64)"
      ]
     },
     "execution_count": 37,
     "metadata": {},
     "output_type": "execute_result"
    }
   ],
   "source": [
    "import numpy as np\n",
    "dfx"
   ]
  },
  {
   "cell_type": "code",
   "execution_count": 38,
   "metadata": {},
   "outputs": [
    {
     "data": {
      "text/plain": [
       "(1896, 19)"
      ]
     },
     "execution_count": 38,
     "metadata": {},
     "output_type": "execute_result"
    }
   ],
   "source": [
    "dfxt=dfx.transpose()\n",
    "dfxt.shape"
   ]
  },
  {
   "cell_type": "code",
   "execution_count": 39,
   "metadata": {},
   "outputs": [
    {
     "data": {
      "text/plain": [
       "array([[-1.        ,  0.15238862,  0.        , ..., -0.61514489,\n",
       "         0.75823642,  0.69597433],\n",
       "       [-1.        ,  0.02990925,  1.27408307, ...,  0.64403429,\n",
       "         0.4916162 , -1.40369721],\n",
       "       [-1.        ,  1.37718225,  1.27408307, ..., -0.61514489,\n",
       "         3.15781846, -1.35020239],\n",
       "       ...,\n",
       "       [ 1.        ,  1.62214097,  1.27408307, ...,  2.53280305,\n",
       "         1.5580971 , -0.16529221],\n",
       "       [ 1.        ,  0.8872648 , -1.27408307, ..., -0.3003501 ,\n",
       "        -0.57486471,  0.9821716 ],\n",
       "       [ 1.        ,  0.8872648 ,  0.        , ...,  0.0144447 ,\n",
       "        -0.84148493,  1.41547961]])"
      ]
     },
     "execution_count": 39,
     "metadata": {},
     "output_type": "execute_result"
    }
   ],
   "source": [
    "df_std=StandardScaler().fit_transform(dfxt)\n",
    "df_std"
   ]
  },
  {
   "cell_type": "code",
   "execution_count": 40,
   "metadata": {},
   "outputs": [],
   "source": [
    "pcafs=PCA(n_components=0.99,whiten=True)\n",
    "dffs_pca=pcafs.fit_transform(df_std)"
   ]
  },
  {
   "cell_type": "code",
   "execution_count": 41,
   "metadata": {},
   "outputs": [
    {
     "name": "stdout",
     "output_type": "stream",
     "text": [
      "Original number of features: 19\n",
      "Reduced numer of features: 19\n"
     ]
    }
   ],
   "source": [
    "print('Original number of features:', df_std.shape[1])\n",
    "print('Reduced numer of features:', dffs_pca.shape[1])"
   ]
  },
  {
   "cell_type": "code",
   "execution_count": 42,
   "metadata": {},
   "outputs": [
    {
     "data": {
      "text/html": [
       "<div>\n",
       "<style scoped>\n",
       "    .dataframe tbody tr th:only-of-type {\n",
       "        vertical-align: middle;\n",
       "    }\n",
       "\n",
       "    .dataframe tbody tr th {\n",
       "        vertical-align: top;\n",
       "    }\n",
       "\n",
       "    .dataframe thead th {\n",
       "        text-align: right;\n",
       "    }\n",
       "</style>\n",
       "<table border=\"1\" class=\"dataframe\">\n",
       "  <thead>\n",
       "    <tr style=\"text-align: right;\">\n",
       "      <th></th>\n",
       "      <th>PC1</th>\n",
       "      <th>PC2</th>\n",
       "      <th>PC3</th>\n",
       "      <th>PC4</th>\n",
       "      <th>PC5</th>\n",
       "      <th>PC6</th>\n",
       "      <th>PC7</th>\n",
       "      <th>PC8</th>\n",
       "      <th>PC9</th>\n",
       "      <th>PC10</th>\n",
       "      <th>PC11</th>\n",
       "      <th>PC12</th>\n",
       "      <th>PC13</th>\n",
       "      <th>PC14</th>\n",
       "      <th>PC15</th>\n",
       "      <th>PC16</th>\n",
       "      <th>PC16</th>\n",
       "      <th>PC17</th>\n",
       "      <th>PC18</th>\n",
       "    </tr>\n",
       "  </thead>\n",
       "  <tbody>\n",
       "    <tr>\n",
       "      <th>0</th>\n",
       "      <td>0.991061</td>\n",
       "      <td>-0.791531</td>\n",
       "      <td>-1.199349</td>\n",
       "      <td>-0.494453</td>\n",
       "      <td>-0.505124</td>\n",
       "      <td>-0.980995</td>\n",
       "      <td>-1.391311</td>\n",
       "      <td>0.238887</td>\n",
       "      <td>0.461436</td>\n",
       "      <td>-0.757201</td>\n",
       "      <td>1.014847</td>\n",
       "      <td>0.847185</td>\n",
       "      <td>-0.886289</td>\n",
       "      <td>1.859522</td>\n",
       "      <td>-0.532059</td>\n",
       "      <td>0.329789</td>\n",
       "      <td>-0.582099</td>\n",
       "      <td>-0.789959</td>\n",
       "      <td>0.460501</td>\n",
       "    </tr>\n",
       "    <tr>\n",
       "      <th>1</th>\n",
       "      <td>0.013010</td>\n",
       "      <td>-0.916870</td>\n",
       "      <td>-0.041003</td>\n",
       "      <td>-1.159963</td>\n",
       "      <td>-0.120478</td>\n",
       "      <td>0.795067</td>\n",
       "      <td>-1.327143</td>\n",
       "      <td>-1.275186</td>\n",
       "      <td>2.000735</td>\n",
       "      <td>0.549203</td>\n",
       "      <td>0.201364</td>\n",
       "      <td>1.725538</td>\n",
       "      <td>-0.355854</td>\n",
       "      <td>-0.387169</td>\n",
       "      <td>0.292335</td>\n",
       "      <td>-0.934015</td>\n",
       "      <td>-1.367768</td>\n",
       "      <td>-0.880297</td>\n",
       "      <td>-1.968721</td>\n",
       "    </tr>\n",
       "    <tr>\n",
       "      <th>2</th>\n",
       "      <td>0.586502</td>\n",
       "      <td>-1.323738</td>\n",
       "      <td>0.642445</td>\n",
       "      <td>1.115925</td>\n",
       "      <td>0.744249</td>\n",
       "      <td>-0.290776</td>\n",
       "      <td>-0.714751</td>\n",
       "      <td>0.136711</td>\n",
       "      <td>1.396598</td>\n",
       "      <td>1.475962</td>\n",
       "      <td>-0.934663</td>\n",
       "      <td>-0.800207</td>\n",
       "      <td>-0.227897</td>\n",
       "      <td>0.166726</td>\n",
       "      <td>-0.023552</td>\n",
       "      <td>-3.507995</td>\n",
       "      <td>-2.045229</td>\n",
       "      <td>-2.823601</td>\n",
       "      <td>0.940343</td>\n",
       "    </tr>\n",
       "    <tr>\n",
       "      <th>3</th>\n",
       "      <td>1.501693</td>\n",
       "      <td>-0.333346</td>\n",
       "      <td>-0.996840</td>\n",
       "      <td>-2.139750</td>\n",
       "      <td>-0.512295</td>\n",
       "      <td>-0.404678</td>\n",
       "      <td>1.632798</td>\n",
       "      <td>0.554481</td>\n",
       "      <td>-0.145323</td>\n",
       "      <td>-0.047605</td>\n",
       "      <td>-0.525205</td>\n",
       "      <td>-0.149211</td>\n",
       "      <td>0.143683</td>\n",
       "      <td>0.247029</td>\n",
       "      <td>-0.875580</td>\n",
       "      <td>-0.128623</td>\n",
       "      <td>-0.741364</td>\n",
       "      <td>0.444903</td>\n",
       "      <td>0.528012</td>\n",
       "    </tr>\n",
       "    <tr>\n",
       "      <th>4</th>\n",
       "      <td>0.128508</td>\n",
       "      <td>-1.505252</td>\n",
       "      <td>0.727748</td>\n",
       "      <td>-0.109250</td>\n",
       "      <td>-0.551431</td>\n",
       "      <td>0.079767</td>\n",
       "      <td>0.237154</td>\n",
       "      <td>1.438357</td>\n",
       "      <td>-1.183170</td>\n",
       "      <td>-0.693939</td>\n",
       "      <td>1.663824</td>\n",
       "      <td>1.128302</td>\n",
       "      <td>-0.805240</td>\n",
       "      <td>0.545534</td>\n",
       "      <td>-0.806209</td>\n",
       "      <td>-2.132487</td>\n",
       "      <td>-0.429827</td>\n",
       "      <td>-0.456748</td>\n",
       "      <td>0.279931</td>\n",
       "    </tr>\n",
       "    <tr>\n",
       "      <th>...</th>\n",
       "      <td>...</td>\n",
       "      <td>...</td>\n",
       "      <td>...</td>\n",
       "      <td>...</td>\n",
       "      <td>...</td>\n",
       "      <td>...</td>\n",
       "      <td>...</td>\n",
       "      <td>...</td>\n",
       "      <td>...</td>\n",
       "      <td>...</td>\n",
       "      <td>...</td>\n",
       "      <td>...</td>\n",
       "      <td>...</td>\n",
       "      <td>...</td>\n",
       "      <td>...</td>\n",
       "      <td>...</td>\n",
       "      <td>...</td>\n",
       "      <td>...</td>\n",
       "      <td>...</td>\n",
       "    </tr>\n",
       "    <tr>\n",
       "      <th>1891</th>\n",
       "      <td>-0.585363</td>\n",
       "      <td>1.104813</td>\n",
       "      <td>-0.662650</td>\n",
       "      <td>-0.418115</td>\n",
       "      <td>0.400045</td>\n",
       "      <td>-0.800175</td>\n",
       "      <td>-0.432107</td>\n",
       "      <td>1.087248</td>\n",
       "      <td>1.542506</td>\n",
       "      <td>-0.750662</td>\n",
       "      <td>1.729517</td>\n",
       "      <td>0.567215</td>\n",
       "      <td>1.313184</td>\n",
       "      <td>-0.622531</td>\n",
       "      <td>0.755144</td>\n",
       "      <td>0.260131</td>\n",
       "      <td>-0.021773</td>\n",
       "      <td>-0.351991</td>\n",
       "      <td>0.675589</td>\n",
       "    </tr>\n",
       "    <tr>\n",
       "      <th>1892</th>\n",
       "      <td>-0.137357</td>\n",
       "      <td>1.239250</td>\n",
       "      <td>0.632072</td>\n",
       "      <td>1.978032</td>\n",
       "      <td>-2.054261</td>\n",
       "      <td>1.105822</td>\n",
       "      <td>0.076286</td>\n",
       "      <td>-0.788903</td>\n",
       "      <td>-0.171400</td>\n",
       "      <td>0.292066</td>\n",
       "      <td>-0.582799</td>\n",
       "      <td>0.595126</td>\n",
       "      <td>1.197791</td>\n",
       "      <td>0.257231</td>\n",
       "      <td>-0.689337</td>\n",
       "      <td>-1.193696</td>\n",
       "      <td>0.146619</td>\n",
       "      <td>1.491809</td>\n",
       "      <td>0.262364</td>\n",
       "    </tr>\n",
       "    <tr>\n",
       "      <th>1893</th>\n",
       "      <td>1.218115</td>\n",
       "      <td>1.144666</td>\n",
       "      <td>2.975984</td>\n",
       "      <td>2.413037</td>\n",
       "      <td>-0.849762</td>\n",
       "      <td>-0.775563</td>\n",
       "      <td>-0.987460</td>\n",
       "      <td>0.176549</td>\n",
       "      <td>-0.335981</td>\n",
       "      <td>0.273723</td>\n",
       "      <td>-1.777081</td>\n",
       "      <td>-0.184379</td>\n",
       "      <td>1.061875</td>\n",
       "      <td>0.264382</td>\n",
       "      <td>1.914218</td>\n",
       "      <td>-0.059401</td>\n",
       "      <td>-0.003810</td>\n",
       "      <td>-1.485313</td>\n",
       "      <td>0.299184</td>\n",
       "    </tr>\n",
       "    <tr>\n",
       "      <th>1894</th>\n",
       "      <td>0.639250</td>\n",
       "      <td>0.964767</td>\n",
       "      <td>-1.391748</td>\n",
       "      <td>1.689969</td>\n",
       "      <td>-1.534752</td>\n",
       "      <td>-0.725495</td>\n",
       "      <td>-0.026892</td>\n",
       "      <td>0.546094</td>\n",
       "      <td>-0.000727</td>\n",
       "      <td>-0.518675</td>\n",
       "      <td>0.198402</td>\n",
       "      <td>0.458334</td>\n",
       "      <td>0.950286</td>\n",
       "      <td>0.866539</td>\n",
       "      <td>1.001459</td>\n",
       "      <td>0.520574</td>\n",
       "      <td>0.293349</td>\n",
       "      <td>-1.076304</td>\n",
       "      <td>0.751321</td>\n",
       "    </tr>\n",
       "    <tr>\n",
       "      <th>1895</th>\n",
       "      <td>0.874608</td>\n",
       "      <td>1.579526</td>\n",
       "      <td>-1.909992</td>\n",
       "      <td>0.436072</td>\n",
       "      <td>0.822095</td>\n",
       "      <td>0.508964</td>\n",
       "      <td>-1.983325</td>\n",
       "      <td>-0.103602</td>\n",
       "      <td>-0.550802</td>\n",
       "      <td>0.624373</td>\n",
       "      <td>-0.528555</td>\n",
       "      <td>-0.071252</td>\n",
       "      <td>-0.909056</td>\n",
       "      <td>-1.423569</td>\n",
       "      <td>0.643225</td>\n",
       "      <td>1.901336</td>\n",
       "      <td>-0.550460</td>\n",
       "      <td>-0.345628</td>\n",
       "      <td>0.920744</td>\n",
       "    </tr>\n",
       "  </tbody>\n",
       "</table>\n",
       "<p>1896 rows × 19 columns</p>\n",
       "</div>"
      ],
      "text/plain": [
       "           PC1       PC2       PC3       PC4       PC5       PC6       PC7  \\\n",
       "0     0.991061 -0.791531 -1.199349 -0.494453 -0.505124 -0.980995 -1.391311   \n",
       "1     0.013010 -0.916870 -0.041003 -1.159963 -0.120478  0.795067 -1.327143   \n",
       "2     0.586502 -1.323738  0.642445  1.115925  0.744249 -0.290776 -0.714751   \n",
       "3     1.501693 -0.333346 -0.996840 -2.139750 -0.512295 -0.404678  1.632798   \n",
       "4     0.128508 -1.505252  0.727748 -0.109250 -0.551431  0.079767  0.237154   \n",
       "...        ...       ...       ...       ...       ...       ...       ...   \n",
       "1891 -0.585363  1.104813 -0.662650 -0.418115  0.400045 -0.800175 -0.432107   \n",
       "1892 -0.137357  1.239250  0.632072  1.978032 -2.054261  1.105822  0.076286   \n",
       "1893  1.218115  1.144666  2.975984  2.413037 -0.849762 -0.775563 -0.987460   \n",
       "1894  0.639250  0.964767 -1.391748  1.689969 -1.534752 -0.725495 -0.026892   \n",
       "1895  0.874608  1.579526 -1.909992  0.436072  0.822095  0.508964 -1.983325   \n",
       "\n",
       "           PC8       PC9      PC10      PC11      PC12      PC13      PC14  \\\n",
       "0     0.238887  0.461436 -0.757201  1.014847  0.847185 -0.886289  1.859522   \n",
       "1    -1.275186  2.000735  0.549203  0.201364  1.725538 -0.355854 -0.387169   \n",
       "2     0.136711  1.396598  1.475962 -0.934663 -0.800207 -0.227897  0.166726   \n",
       "3     0.554481 -0.145323 -0.047605 -0.525205 -0.149211  0.143683  0.247029   \n",
       "4     1.438357 -1.183170 -0.693939  1.663824  1.128302 -0.805240  0.545534   \n",
       "...        ...       ...       ...       ...       ...       ...       ...   \n",
       "1891  1.087248  1.542506 -0.750662  1.729517  0.567215  1.313184 -0.622531   \n",
       "1892 -0.788903 -0.171400  0.292066 -0.582799  0.595126  1.197791  0.257231   \n",
       "1893  0.176549 -0.335981  0.273723 -1.777081 -0.184379  1.061875  0.264382   \n",
       "1894  0.546094 -0.000727 -0.518675  0.198402  0.458334  0.950286  0.866539   \n",
       "1895 -0.103602 -0.550802  0.624373 -0.528555 -0.071252 -0.909056 -1.423569   \n",
       "\n",
       "          PC15      PC16      PC16      PC17      PC18  \n",
       "0    -0.532059  0.329789 -0.582099 -0.789959  0.460501  \n",
       "1     0.292335 -0.934015 -1.367768 -0.880297 -1.968721  \n",
       "2    -0.023552 -3.507995 -2.045229 -2.823601  0.940343  \n",
       "3    -0.875580 -0.128623 -0.741364  0.444903  0.528012  \n",
       "4    -0.806209 -2.132487 -0.429827 -0.456748  0.279931  \n",
       "...        ...       ...       ...       ...       ...  \n",
       "1891  0.755144  0.260131 -0.021773 -0.351991  0.675589  \n",
       "1892 -0.689337 -1.193696  0.146619  1.491809  0.262364  \n",
       "1893  1.914218 -0.059401 -0.003810 -1.485313  0.299184  \n",
       "1894  1.001459  0.520574  0.293349 -1.076304  0.751321  \n",
       "1895  0.643225  1.901336 -0.550460 -0.345628  0.920744  \n",
       "\n",
       "[1896 rows x 19 columns]"
      ]
     },
     "execution_count": 42,
     "metadata": {},
     "output_type": "execute_result"
    }
   ],
   "source": [
    "datafs_pca=pd.DataFrame(dffs_pca, columns=[\"PC1\",\"PC2\",\"PC3\",\"PC4\",\"PC5\",\"PC6\",\"PC7\",\"PC8\",\"PC9\",\"PC10\",\"PC11\",\"PC12\",\"PC13\",\"PC14\",\"PC15\",\"PC16\",\"PC16\",\"PC17\",\"PC18\"])\n",
    "datafs_pca"
   ]
  },
  {
   "cell_type": "code",
   "execution_count": 43,
   "metadata": {},
   "outputs": [],
   "source": [
    "from sklearn import decomposition"
   ]
  },
  {
   "cell_type": "code",
   "execution_count": 44,
   "metadata": {},
   "outputs": [],
   "source": [
    "pcafe=decomposition.PCA(n_components=2)\n",
    "dffe_pca=pcafe.fit_transform(df_std)"
   ]
  },
  {
   "cell_type": "code",
   "execution_count": 45,
   "metadata": {},
   "outputs": [
    {
     "name": "stdout",
     "output_type": "stream",
     "text": [
      "Original number of features: 19\n",
      "Reduced numer of features: 2\n"
     ]
    }
   ],
   "source": [
    "print('Original number of features:', df_std.shape[1])\n",
    "print('Reduced numer of features:', dffe_pca.shape[1])"
   ]
  },
  {
   "cell_type": "code",
   "execution_count": 63,
   "metadata": {},
   "outputs": [
    {
     "data": {
      "text/html": [
       "<div>\n",
       "<style scoped>\n",
       "    .dataframe tbody tr th:only-of-type {\n",
       "        vertical-align: middle;\n",
       "    }\n",
       "\n",
       "    .dataframe tbody tr th {\n",
       "        vertical-align: top;\n",
       "    }\n",
       "\n",
       "    .dataframe thead th {\n",
       "        text-align: right;\n",
       "    }\n",
       "</style>\n",
       "<table border=\"1\" class=\"dataframe\">\n",
       "  <thead>\n",
       "    <tr style=\"text-align: right;\">\n",
       "      <th></th>\n",
       "      <th>PC1</th>\n",
       "      <th>PC2</th>\n",
       "    </tr>\n",
       "  </thead>\n",
       "  <tbody>\n",
       "    <tr>\n",
       "      <th>0</th>\n",
       "      <td>1.633933</td>\n",
       "      <td>-1.227620</td>\n",
       "    </tr>\n",
       "    <tr>\n",
       "      <th>1</th>\n",
       "      <td>0.019964</td>\n",
       "      <td>-1.415157</td>\n",
       "    </tr>\n",
       "    <tr>\n",
       "      <th>2</th>\n",
       "      <td>0.962678</td>\n",
       "      <td>-2.054830</td>\n",
       "    </tr>\n",
       "    <tr>\n",
       "      <th>3</th>\n",
       "      <td>2.476045</td>\n",
       "      <td>-0.515067</td>\n",
       "    </tr>\n",
       "    <tr>\n",
       "      <th>4</th>\n",
       "      <td>0.209294</td>\n",
       "      <td>-2.325308</td>\n",
       "    </tr>\n",
       "    <tr>\n",
       "      <th>...</th>\n",
       "      <td>...</td>\n",
       "      <td>...</td>\n",
       "    </tr>\n",
       "    <tr>\n",
       "      <th>1891</th>\n",
       "      <td>-0.965076</td>\n",
       "      <td>1.711436</td>\n",
       "    </tr>\n",
       "    <tr>\n",
       "      <th>1892</th>\n",
       "      <td>-0.229689</td>\n",
       "      <td>1.911286</td>\n",
       "    </tr>\n",
       "    <tr>\n",
       "      <th>1893</th>\n",
       "      <td>2.010079</td>\n",
       "      <td>1.765956</td>\n",
       "    </tr>\n",
       "    <tr>\n",
       "      <th>1894</th>\n",
       "      <td>1.054747</td>\n",
       "      <td>1.488245</td>\n",
       "    </tr>\n",
       "    <tr>\n",
       "      <th>1895</th>\n",
       "      <td>1.446860</td>\n",
       "      <td>2.441075</td>\n",
       "    </tr>\n",
       "  </tbody>\n",
       "</table>\n",
       "<p>1896 rows × 2 columns</p>\n",
       "</div>"
      ],
      "text/plain": [
       "           PC1       PC2\n",
       "0     1.633933 -1.227620\n",
       "1     0.019964 -1.415157\n",
       "2     0.962678 -2.054830\n",
       "3     2.476045 -0.515067\n",
       "4     0.209294 -2.325308\n",
       "...        ...       ...\n",
       "1891 -0.965076  1.711436\n",
       "1892 -0.229689  1.911286\n",
       "1893  2.010079  1.765956\n",
       "1894  1.054747  1.488245\n",
       "1895  1.446860  2.441075\n",
       "\n",
       "[1896 rows x 2 columns]"
      ]
     },
     "execution_count": 63,
     "metadata": {},
     "output_type": "execute_result"
    }
   ],
   "source": [
    "datafe_pca=pd.DataFrame(dffe_pca, columns=[\"PC1\",\"PC2\"])\n",
    "datafe_pca"
   ]
  },
  {
   "cell_type": "markdown",
   "metadata": {},
   "source": [
    "### Kmeans "
   ]
  },
  {
   "cell_type": "code",
   "execution_count": 47,
   "metadata": {},
   "outputs": [],
   "source": [
    "import pandas as pd\n",
    "import numpy as np\n",
    "import matplotlib\n",
    "import matplotlib.pyplot as plt\n",
    "%matplotlib inline"
   ]
  },
  {
   "cell_type": "code",
   "execution_count": 48,
   "metadata": {},
   "outputs": [
    {
     "data": {
      "text/html": [
       "<div>\n",
       "<style scoped>\n",
       "    .dataframe tbody tr th:only-of-type {\n",
       "        vertical-align: middle;\n",
       "    }\n",
       "\n",
       "    .dataframe tbody tr th {\n",
       "        vertical-align: top;\n",
       "    }\n",
       "\n",
       "    .dataframe thead th {\n",
       "        text-align: right;\n",
       "    }\n",
       "</style>\n",
       "<table border=\"1\" class=\"dataframe\">\n",
       "  <thead>\n",
       "    <tr style=\"text-align: right;\">\n",
       "      <th></th>\n",
       "      <th>Churn</th>\n",
       "      <th>Tenure</th>\n",
       "      <th>PreferredLoginDevice</th>\n",
       "      <th>CityTier</th>\n",
       "      <th>WarehouseToHome</th>\n",
       "      <th>PreferredPaymentMode</th>\n",
       "      <th>Gender</th>\n",
       "      <th>HourSpendOnApp</th>\n",
       "      <th>DeviceRegistered</th>\n",
       "      <th>PreferedOrderCat</th>\n",
       "      <th>SatisfactionScore</th>\n",
       "      <th>MaritalStatus</th>\n",
       "      <th>NumberOfAddress</th>\n",
       "      <th>Complain</th>\n",
       "      <th>OrderIncreaseFromLastYear</th>\n",
       "      <th>CouponUsed</th>\n",
       "      <th>OrderCount</th>\n",
       "      <th>DaySinceLastOrder</th>\n",
       "      <th>CashbackAmount</th>\n",
       "    </tr>\n",
       "    <tr>\n",
       "      <th>CustomerID</th>\n",
       "      <th></th>\n",
       "      <th></th>\n",
       "      <th></th>\n",
       "      <th></th>\n",
       "      <th></th>\n",
       "      <th></th>\n",
       "      <th></th>\n",
       "      <th></th>\n",
       "      <th></th>\n",
       "      <th></th>\n",
       "      <th></th>\n",
       "      <th></th>\n",
       "      <th></th>\n",
       "      <th></th>\n",
       "      <th></th>\n",
       "      <th></th>\n",
       "      <th></th>\n",
       "      <th></th>\n",
       "      <th></th>\n",
       "    </tr>\n",
       "  </thead>\n",
       "  <tbody>\n",
       "    <tr>\n",
       "      <th>55599</th>\n",
       "      <td>1</td>\n",
       "      <td>1</td>\n",
       "      <td>0</td>\n",
       "      <td>2</td>\n",
       "      <td>12</td>\n",
       "      <td>5</td>\n",
       "      <td>1</td>\n",
       "      <td>4</td>\n",
       "      <td>3</td>\n",
       "      <td>4</td>\n",
       "      <td>4</td>\n",
       "      <td>1</td>\n",
       "      <td>2</td>\n",
       "      <td>0</td>\n",
       "      <td>10</td>\n",
       "      <td>3</td>\n",
       "      <td>1</td>\n",
       "      <td>1</td>\n",
       "      <td>451</td>\n",
       "    </tr>\n",
       "    <tr>\n",
       "      <th>55603</th>\n",
       "      <td>1</td>\n",
       "      <td>1</td>\n",
       "      <td>1</td>\n",
       "      <td>0</td>\n",
       "      <td>3</td>\n",
       "      <td>3</td>\n",
       "      <td>1</td>\n",
       "      <td>4</td>\n",
       "      <td>3</td>\n",
       "      <td>4</td>\n",
       "      <td>0</td>\n",
       "      <td>1</td>\n",
       "      <td>10</td>\n",
       "      <td>1</td>\n",
       "      <td>4</td>\n",
       "      <td>4</td>\n",
       "      <td>3</td>\n",
       "      <td>3</td>\n",
       "      <td>893</td>\n",
       "    </tr>\n",
       "    <tr>\n",
       "      <th>55605</th>\n",
       "      <td>1</td>\n",
       "      <td>21</td>\n",
       "      <td>2</td>\n",
       "      <td>0</td>\n",
       "      <td>9</td>\n",
       "      <td>1</td>\n",
       "      <td>1</td>\n",
       "      <td>5</td>\n",
       "      <td>3</td>\n",
       "      <td>4</td>\n",
       "      <td>2</td>\n",
       "      <td>1</td>\n",
       "      <td>9</td>\n",
       "      <td>0</td>\n",
       "      <td>1</td>\n",
       "      <td>8</td>\n",
       "      <td>10</td>\n",
       "      <td>10</td>\n",
       "      <td>572</td>\n",
       "    </tr>\n",
       "    <tr>\n",
       "      <th>55613</th>\n",
       "      <td>1</td>\n",
       "      <td>15</td>\n",
       "      <td>0</td>\n",
       "      <td>2</td>\n",
       "      <td>3</td>\n",
       "      <td>4</td>\n",
       "      <td>1</td>\n",
       "      <td>5</td>\n",
       "      <td>3</td>\n",
       "      <td>2</td>\n",
       "      <td>2</td>\n",
       "      <td>1</td>\n",
       "      <td>8</td>\n",
       "      <td>0</td>\n",
       "      <td>2</td>\n",
       "      <td>3</td>\n",
       "      <td>1</td>\n",
       "      <td>2</td>\n",
       "      <td>1001</td>\n",
       "    </tr>\n",
       "    <tr>\n",
       "      <th>55622</th>\n",
       "      <td>1</td>\n",
       "      <td>15</td>\n",
       "      <td>1</td>\n",
       "      <td>2</td>\n",
       "      <td>31</td>\n",
       "      <td>5</td>\n",
       "      <td>1</td>\n",
       "      <td>4</td>\n",
       "      <td>4</td>\n",
       "      <td>0</td>\n",
       "      <td>4</td>\n",
       "      <td>1</td>\n",
       "      <td>5</td>\n",
       "      <td>1</td>\n",
       "      <td>3</td>\n",
       "      <td>4</td>\n",
       "      <td>2</td>\n",
       "      <td>1</td>\n",
       "      <td>1163</td>\n",
       "    </tr>\n",
       "  </tbody>\n",
       "</table>\n",
       "</div>"
      ],
      "text/plain": [
       "            Churn  Tenure  PreferredLoginDevice  CityTier  WarehouseToHome  \\\n",
       "CustomerID                                                                   \n",
       "55599           1       1                     0         2               12   \n",
       "55603           1       1                     1         0                3   \n",
       "55605           1      21                     2         0                9   \n",
       "55613           1      15                     0         2                3   \n",
       "55622           1      15                     1         2               31   \n",
       "\n",
       "            PreferredPaymentMode  Gender  HourSpendOnApp  DeviceRegistered  \\\n",
       "CustomerID                                                                   \n",
       "55599                          5       1               4                 3   \n",
       "55603                          3       1               4                 3   \n",
       "55605                          1       1               5                 3   \n",
       "55613                          4       1               5                 3   \n",
       "55622                          5       1               4                 4   \n",
       "\n",
       "            PreferedOrderCat  SatisfactionScore  MaritalStatus  \\\n",
       "CustomerID                                                       \n",
       "55599                      4                  4              1   \n",
       "55603                      4                  0              1   \n",
       "55605                      4                  2              1   \n",
       "55613                      2                  2              1   \n",
       "55622                      0                  4              1   \n",
       "\n",
       "            NumberOfAddress  Complain  OrderIncreaseFromLastYear  CouponUsed  \\\n",
       "CustomerID                                                                     \n",
       "55599                     2         0                         10           3   \n",
       "55603                    10         1                          4           4   \n",
       "55605                     9         0                          1           8   \n",
       "55613                     8         0                          2           3   \n",
       "55622                     5         1                          3           4   \n",
       "\n",
       "            OrderCount  DaySinceLastOrder  CashbackAmount  \n",
       "CustomerID                                                 \n",
       "55599                1                  1             451  \n",
       "55603                3                  3             893  \n",
       "55605               10                 10             572  \n",
       "55613                1                  2            1001  \n",
       "55622                2                  1            1163  "
      ]
     },
     "execution_count": 48,
     "metadata": {},
     "output_type": "execute_result"
    }
   ],
   "source": [
    "data.tail(5)"
   ]
  },
  {
   "cell_type": "code",
   "execution_count": 49,
   "metadata": {},
   "outputs": [
    {
     "data": {
      "text/plain": [
       "array([[0.        , 0.28125   , 0.5       , ..., 0.        , 0.36842105,\n",
       "        0.67933131],\n",
       "       [0.        , 0.25      , 1.        , ..., 0.25      , 0.31578947,\n",
       "        0.08282675],\n",
       "       [0.        , 0.59375   , 1.        , ..., 0.        , 0.84210526,\n",
       "        0.09802432],\n",
       "       ...,\n",
       "       [1.        , 0.65625   , 1.        , ..., 0.625     , 0.52631579,\n",
       "        0.43465046],\n",
       "       [1.        , 0.46875   , 0.        , ..., 0.0625    , 0.10526316,\n",
       "        0.7606383 ],\n",
       "       [1.        , 0.46875   , 0.5       , ..., 0.125     , 0.05263158,\n",
       "        0.8837386 ]])"
      ]
     },
     "execution_count": 49,
     "metadata": {},
     "output_type": "execute_result"
    }
   ],
   "source": [
    "from sklearn import preprocessing\n",
    "#create scaler\n",
    "minmax_norm = preprocessing.MinMaxScaler(feature_range = (0,1))\n",
    "#scale feature\n",
    "data_norm = minmax_norm.fit_transform(data)\n",
    "#show feature\n",
    "data_norm"
   ]
  },
  {
   "cell_type": "code",
   "execution_count": 50,
   "metadata": {},
   "outputs": [
    {
     "data": {
      "text/plain": [
       "array([[-1.        ,  0.15238862,  0.        , ..., -0.61514489,\n",
       "         0.75823642,  0.69597433],\n",
       "       [-1.        ,  0.02990925,  1.27408307, ...,  0.64403429,\n",
       "         0.4916162 , -1.40369721],\n",
       "       [-1.        ,  1.37718225,  1.27408307, ..., -0.61514489,\n",
       "         3.15781846, -1.35020239],\n",
       "       ...,\n",
       "       [ 1.        ,  1.62214097,  1.27408307, ...,  2.53280305,\n",
       "         1.5580971 , -0.16529221],\n",
       "       [ 1.        ,  0.8872648 , -1.27408307, ..., -0.3003501 ,\n",
       "        -0.57486471,  0.9821716 ],\n",
       "       [ 1.        ,  0.8872648 ,  0.        , ...,  0.0144447 ,\n",
       "        -0.84148493,  1.41547961]])"
      ]
     },
     "execution_count": 50,
     "metadata": {},
     "output_type": "execute_result"
    }
   ],
   "source": [
    "# Create scaler\n",
    "scaler = preprocessing.StandardScaler()\n",
    "# Transform the feature\n",
    "data_scaled = scaler.fit_transform(data)\n",
    "#show feature\n",
    "data_scaled"
   ]
  },
  {
   "cell_type": "code",
   "execution_count": 51,
   "metadata": {},
   "outputs": [],
   "source": [
    "from sklearn.cluster import KMeans"
   ]
  },
  {
   "cell_type": "code",
   "execution_count": 52,
   "metadata": {},
   "outputs": [],
   "source": [
    "Sum_of_squared_distances = []\n",
    "range_n_clusters =[1,2,3,4,5,6,7,8,9,10]\n",
    "for n_clusters in range_n_clusters:\n",
    "    model=KMeans(n_clusters=n_clusters, init='random', n_init=10, random_state=0)\n",
    "    model.fit(data)\n",
    "    Sum_of_squared_distances.append(model.inertia_)"
   ]
  },
  {
   "cell_type": "code",
   "execution_count": 53,
   "metadata": {},
   "outputs": [],
   "source": [
    "model=KMeans(n_clusters=n_clusters, init='random', n_init=10, random_state=0)"
   ]
  },
  {
   "cell_type": "code",
   "execution_count": 54,
   "metadata": {},
   "outputs": [
    {
     "data": {
      "text/plain": [
       "KMeans(init='random', n_clusters=10, random_state=0)"
      ]
     },
     "execution_count": 54,
     "metadata": {},
     "output_type": "execute_result"
    }
   ],
   "source": [
    "model.fit(data)"
   ]
  },
  {
   "cell_type": "code",
   "execution_count": 55,
   "metadata": {},
   "outputs": [
    {
     "name": "stdout",
     "output_type": "stream",
     "text": [
      "KMeans(init='random', n_clusters=10, random_state=0)\n"
     ]
    }
   ],
   "source": [
    "print(model.fit(data))"
   ]
  },
  {
   "cell_type": "code",
   "execution_count": 56,
   "metadata": {},
   "outputs": [],
   "source": [
    "Sum_of_squared_distances.append(model.inertia_)"
   ]
  },
  {
   "cell_type": "code",
   "execution_count": 57,
   "metadata": {},
   "outputs": [
    {
     "data": {
      "text/plain": [
       "[265402882.50052804,\n",
       " 70696136.63422145,\n",
       " 29502941.632383805,\n",
       " 17377586.505353365,\n",
       " 11157398.407456908,\n",
       " 7866625.558418737,\n",
       " 6091530.342266784,\n",
       " 4642485.916768607,\n",
       " 3791517.4360467773,\n",
       " 3112361.399782663,\n",
       " 3112361.399782663]"
      ]
     },
     "execution_count": 57,
     "metadata": {},
     "output_type": "execute_result"
    }
   ],
   "source": [
    "Sum_of_squared_distances"
   ]
  },
  {
   "cell_type": "code",
   "execution_count": 58,
   "metadata": {},
   "outputs": [
    {
     "name": "stdout",
     "output_type": "stream",
     "text": [
      "Number of clusters : \n",
      " [2, 3, 4, 5, 6, 7, 8, 9, 10]\n",
      "clusters= 2 score 0.6067134931498721\n",
      "clusters= 3 score 0.5937868695929988\n",
      "clusters= 4 score 0.5619530561615139\n",
      "clusters= 5 score 0.5480473250571112\n",
      "clusters= 6 score 0.5362152692148867\n",
      "clusters= 7 score 0.5152046764596637\n",
      "clusters= 8 score 0.5112854786250497\n",
      "clusters= 9 score 0.4993855032723777\n",
      "clusters= 10 score 0.49769372423229213\n"
     ]
    }
   ],
   "source": [
    "from sklearn.metrics import silhouette_samples,silhouette_score\n",
    "sil=[]\n",
    "range_n_clusters=[2,3,4,5,6,7,8,9,10]\n",
    "print(\"Number of clusters : \\n\", range_n_clusters)\n",
    "for n_clusters in range_n_clusters:\n",
    "    clusterer=KMeans(n_clusters=n_clusters, init='random',n_init=10, random_state=0)\n",
    "    preds=clusterer.fit_predict(data)\n",
    "    centers=clusterer.cluster_centers_\n",
    "    score=silhouette_score(df,preds,metric=\"euclidean\")\n",
    "    sil.append(score)\n",
    "    print(\"clusters=\",n_clusters,\"score\",score)"
   ]
  },
  {
   "cell_type": "code",
   "execution_count": 59,
   "metadata": {},
   "outputs": [],
   "source": [
    "km1=KMeans(n_clusters=2,init='random',n_init=10, random_state=0)\n",
    "km1.fit(data)\n",
    "y_km1=km1.predict(data)\n",
    "y_km1=pd.DataFrame(y_km1,columns=[\"cluster\"])"
   ]
  },
  {
   "cell_type": "code",
   "execution_count": 60,
   "metadata": {},
   "outputs": [
    {
     "data": {
      "text/plain": [
       "array([[4.76086957e-01, 9.72500000e+00, 7.17391304e-01, 9.22826087e-01,\n",
       "        1.17630435e+01, 3.77717391e+00, 6.05434783e-01, 3.34456522e+00,\n",
       "        2.61521739e+00, 1.75978261e+00, 2.25652174e+00, 1.08804348e+00,\n",
       "        3.56413043e+00, 3.83695652e-01, 4.70217391e+00, 2.24347826e+00,\n",
       "        2.87173913e+00, 5.33478261e+00, 9.63853261e+02],\n",
       "       [5.22540984e-01, 5.89959016e+00, 1.26639344e+00, 5.27663934e-01,\n",
       "        1.08770492e+01, 3.11577869e+00, 6.20901639e-01, 3.15061475e+00,\n",
       "        2.47643443e+00, 3.10963115e+00, 2.29303279e+00, 1.18442623e+00,\n",
       "        2.61782787e+00, 3.87295082e-01, 4.86987705e+00, 1.35450820e+00,\n",
       "        1.08913934e+00, 3.04508197e+00, 3.22679303e+02]])"
      ]
     },
     "execution_count": 60,
     "metadata": {},
     "output_type": "execute_result"
    }
   ],
   "source": [
    "centroid=km1.cluster_centers_\n",
    "centroid"
   ]
  },
  {
   "cell_type": "code",
   "execution_count": 61,
   "metadata": {},
   "outputs": [
    {
     "data": {
      "image/png": "[encoded data removed]",
      "text/plain": [
       "<Figure size 576x432 with 1 Axes>"
      ]
     },
     "metadata": {
      "needs_background": "light"
     },
     "output_type": "display_data"
    }
   ],
   "source": [
    "plt.figure(figsize=(8,6))\n",
    "plt.plot(range_n_clusters,sil,'-o')\n",
    "plt.title(\"Choosing Optimal Cluster\")\n",
    "plt.xlabel(\"Num Cluster\")\n",
    "plt.ylabel(\"Silhouette Scaled\")\n",
    "plt.xticks(range_n_clusters)\n",
    "plt.show()"
   ]
  },
  {
   "cell_type": "code",
   "execution_count": 62,
   "metadata": {},
   "outputs": [
    {
     "data": {
      "text/html": [
       "<div>\n",
       "<style scoped>\n",
       "    .dataframe tbody tr th:only-of-type {\n",
       "        vertical-align: middle;\n",
       "    }\n",
       "\n",
       "    .dataframe tbody tr th {\n",
       "        vertical-align: top;\n",
       "    }\n",
       "\n",
       "    .dataframe thead th {\n",
       "        text-align: right;\n",
       "    }\n",
       "</style>\n",
       "<table border=\"1\" class=\"dataframe\">\n",
       "  <thead>\n",
       "    <tr style=\"text-align: right;\">\n",
       "      <th></th>\n",
       "      <th>0</th>\n",
       "      <th>1</th>\n",
       "      <th>2</th>\n",
       "      <th>3</th>\n",
       "      <th>4</th>\n",
       "      <th>5</th>\n",
       "      <th>6</th>\n",
       "      <th>7</th>\n",
       "      <th>8</th>\n",
       "      <th>9</th>\n",
       "      <th>10</th>\n",
       "      <th>11</th>\n",
       "      <th>12</th>\n",
       "      <th>13</th>\n",
       "      <th>14</th>\n",
       "      <th>15</th>\n",
       "      <th>16</th>\n",
       "      <th>17</th>\n",
       "      <th>18</th>\n",
       "    </tr>\n",
       "  </thead>\n",
       "  <tbody>\n",
       "    <tr>\n",
       "      <th>0</th>\n",
       "      <td>0.476087</td>\n",
       "      <td>9.72500</td>\n",
       "      <td>0.717391</td>\n",
       "      <td>0.922826</td>\n",
       "      <td>11.763043</td>\n",
       "      <td>3.777174</td>\n",
       "      <td>0.605435</td>\n",
       "      <td>3.344565</td>\n",
       "      <td>2.615217</td>\n",
       "      <td>1.759783</td>\n",
       "      <td>2.256522</td>\n",
       "      <td>1.088043</td>\n",
       "      <td>3.564130</td>\n",
       "      <td>0.383696</td>\n",
       "      <td>4.702174</td>\n",
       "      <td>2.243478</td>\n",
       "      <td>2.871739</td>\n",
       "      <td>5.334783</td>\n",
       "      <td>963.853261</td>\n",
       "    </tr>\n",
       "    <tr>\n",
       "      <th>1</th>\n",
       "      <td>0.522541</td>\n",
       "      <td>5.89959</td>\n",
       "      <td>1.266393</td>\n",
       "      <td>0.527664</td>\n",
       "      <td>10.877049</td>\n",
       "      <td>3.115779</td>\n",
       "      <td>0.620902</td>\n",
       "      <td>3.150615</td>\n",
       "      <td>2.476434</td>\n",
       "      <td>3.109631</td>\n",
       "      <td>2.293033</td>\n",
       "      <td>1.184426</td>\n",
       "      <td>2.617828</td>\n",
       "      <td>0.387295</td>\n",
       "      <td>4.869877</td>\n",
       "      <td>1.354508</td>\n",
       "      <td>1.089139</td>\n",
       "      <td>3.045082</td>\n",
       "      <td>322.679303</td>\n",
       "    </tr>\n",
       "  </tbody>\n",
       "</table>\n",
       "</div>"
      ],
      "text/plain": [
       "         0        1         2         3          4         5         6   \\\n",
       "0  0.476087  9.72500  0.717391  0.922826  11.763043  3.777174  0.605435   \n",
       "1  0.522541  5.89959  1.266393  0.527664  10.877049  3.115779  0.620902   \n",
       "\n",
       "         7         8         9         10        11        12        13  \\\n",
       "0  3.344565  2.615217  1.759783  2.256522  1.088043  3.564130  0.383696   \n",
       "1  3.150615  2.476434  3.109631  2.293033  1.184426  2.617828  0.387295   \n",
       "\n",
       "         14        15        16        17          18  \n",
       "0  4.702174  2.243478  2.871739  5.334783  963.853261  \n",
       "1  4.869877  1.354508  1.089139  3.045082  322.679303  "
      ]
     },
     "execution_count": 62,
     "metadata": {},
     "output_type": "execute_result"
    }
   ],
   "source": [
    "centroidpd=pd.DataFrame(centroid)\n",
    "centroidpd"
   ]
  },
  {
   "cell_type": "code",
   "execution_count": null,
   "metadata": {},
   "outputs": [],
   "source": []
  }
 ],
 "metadata": {
  "kernelspec": {
   "display_name": "Python 3",
   "language": "python",
   "name": "python3"
  },
  "language_info": {
   "codemirror_mode": {
    "name": "ipython",
    "version": 3
   },
   "file_extension": ".py",
   "mimetype": "text/x-python",
   "name": "python",
   "nbconvert_exporter": "python",
   "pygments_lexer": "ipython3",
   "version": "3.8.5"
  }
 },
 "nbformat": 4,
 "nbformat_minor": 4
}
